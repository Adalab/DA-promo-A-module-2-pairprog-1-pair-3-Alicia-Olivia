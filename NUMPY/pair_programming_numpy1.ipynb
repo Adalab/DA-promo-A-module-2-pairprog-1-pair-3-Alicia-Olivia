{
 "cells": [
  {
   "cell_type": "code",
   "execution_count": 8,
   "metadata": {},
   "outputs": [
    {
     "name": "stdout",
     "output_type": "stream",
     "text": [
      "1\n",
      "int64\n",
      "(10,)\n",
      "10\n",
      "Shape ej1_2: (2, 3)\n",
      "Shape ej3: (3, 3)\n",
      "No se pueden sumar porque no tienen la misma forma. Devuelve el siguiente error:\n",
      "ej1_2 + ej3 = ValueError: operands could not be broadcast together with shapes (2,3) (3,3)\n",
      "\n",
      "\n",
      "Matriz nueva: \n",
      " [[10  1 77]\n",
      " [38 36 14]\n",
      " [75 12 59]]\n",
      "Suma de matrices: \n",
      " [[11.  1. 77.]\n",
      " [38. 37. 14.]\n",
      " [75. 12. 60.]]\n",
      "Multiplicación matrices: \n",
      " [[10.  0.  0.]\n",
      " [ 0. 36.  0.]\n",
      " [ 0.  0. 59.]]\n",
      "División matrices: \n",
      " [[10. inf inf]\n",
      " [inf 36. inf]\n",
      " [inf inf 59.]]\n"
     ]
    },
    {
     "name": "stderr",
     "output_type": "stream",
     "text": [
      "/tmp/ipykernel_8941/925118025.py:45: RuntimeWarning: divide by zero encountered in true_divide\n",
      "  ej5_5 = np.divide(matriz_nueva, ej3)\n"
     ]
    }
   ],
   "source": [
    "import numpy as np\n",
    "\n",
    "#Ejercicio 1\n",
    "lista1 = [1,2,3,4,5,6,7,8,9,10]\n",
    "ej1_1 = np.array(lista1)\n",
    "ej1_1\n",
    "\n",
    "ej1_2 = np.random.randint(0,100, (2,3))\n",
    "ej1_2\n",
    "\n",
    "ej1_3 = np.random.randint(0,100, (2,3,5))\n",
    "ej1_3\n",
    "\n",
    "#Ejercicio 2\n",
    "\n",
    "def propiedades_array(array):\n",
    "    print(array.ndim)\n",
    "    print(array.dtype)\n",
    "    print(array.shape)\n",
    "    print(array.size)\n",
    "\n",
    "propiedades_array(ej1_1)\n",
    "#propiedades_array(ej1_2)\n",
    "\n",
    "#Ejercicio 3\n",
    "ej3 = np.eye(3,3)\n",
    "ej3\n",
    "\n",
    "#Ejercicio 4\n",
    "ej4 = np.ones_like(ej1_3)\n",
    "ej4\n",
    "\n",
    "#Ejercicio 5\n",
    "print('Shape ej1_2:',ej1_2.shape)\n",
    "print('Shape ej3:', ej3.shape)\n",
    "print('No se pueden sumar porque no tienen la misma forma. Devuelve el siguiente error:')\n",
    "print('ej1_2 + ej3 = ValueError: operands could not be broadcast together with shapes (2,3) (3,3)') \n",
    "print('\\n')\n",
    "matriz_nueva = np.random.randint(0,100, (3,3))\n",
    "print('Matriz nueva:', '\\n',matriz_nueva)\n",
    "print('Suma de matrices:', '\\n', ej3 + matriz_nueva)\n",
    "\n",
    "ej5_4 = np.multiply(matriz_nueva, ej3)\n",
    "print('Multiplicación matrices:', '\\n', ej5_4)\n",
    "ej5_5 = np.divide(matriz_nueva, ej3)\n",
    "print('División matrices:', '\\n', ej5_5)\n"
   ]
  }
 ],
 "metadata": {
  "interpreter": {
   "hash": "ef996a58dd4038b19127a5b342ff558a720418179ddf7c29df6339888c2ae8ac"
  },
  "kernelspec": {
   "display_name": "Python 3.9.7 ('base')",
   "language": "python",
   "name": "python3"
  },
  "language_info": {
   "codemirror_mode": {
    "name": "ipython",
    "version": 3
   },
   "file_extension": ".py",
   "mimetype": "text/x-python",
   "name": "python",
   "nbconvert_exporter": "python",
   "pygments_lexer": "ipython3",
   "version": "3.9.7"
  },
  "orig_nbformat": 4
 },
 "nbformat": 4,
 "nbformat_minor": 2
}
