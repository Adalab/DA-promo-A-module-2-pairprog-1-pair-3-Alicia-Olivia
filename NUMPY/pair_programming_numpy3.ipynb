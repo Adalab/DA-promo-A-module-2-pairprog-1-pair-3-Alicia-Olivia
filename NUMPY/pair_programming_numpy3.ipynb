{
 "cells": [
  {
   "cell_type": "code",
   "execution_count": 2,
   "metadata": {},
   "outputs": [],
   "source": [
    "import numpy as np"
   ]
  },
  {
   "cell_type": "code",
   "execution_count": 3,
   "metadata": {},
   "outputs": [
    {
     "data": {
      "text/plain": [
       "array([[[0.9, 0.5, 0.2, 0.4, 0.6],\n",
       "        [0.1, 0.5, 0.4, 0.3, 0. ],\n",
       "        [0.7, 0.2, 0.7, 0.3, 0.7]],\n",
       "\n",
       "       [[0.1, 0.4, 0.6, 0.7, 0.7],\n",
       "        [0.5, 0.5, 0.7, 0.9, 0.6],\n",
       "        [0.5, 0.3, 0.5, 0.7, 0.5]]])"
      ]
     },
     "execution_count": 3,
     "metadata": {},
     "output_type": "execute_result"
    }
   ],
   "source": [
    "#Ejercicio 1: Creamos array\n",
    "array = np.random.rand(2,3,5)\n",
    "array =np.round(array, decimals=1)\n",
    "array"
   ]
  },
  {
   "cell_type": "code",
   "execution_count": 4,
   "metadata": {},
   "outputs": [
    {
     "name": "stdout",
     "output_type": "stream",
     "text": [
      "La media del array es: 0.5\n"
     ]
    }
   ],
   "source": [
    "#Ejercicio 2\n",
    "media_array = np.mean(array)\n",
    "media_array = np.round(media_array, decimals = 1)\n",
    "print('La media del array es:', media_array)\n"
   ]
  },
  {
   "cell_type": "code",
   "execution_count": 5,
   "metadata": {},
   "outputs": [
    {
     "name": "stdout",
     "output_type": "stream",
     "text": [
      "El numero máximo del array es: 0.9\n"
     ]
    }
   ],
   "source": [
    "#Ejercicio 3\n",
    "max_array = np.max(array)\n",
    "max_array = np.round(max_array, decimals = 1)\n",
    "print('El numero máximo del array es:', max_array)"
   ]
  },
  {
   "cell_type": "code",
   "execution_count": 6,
   "metadata": {},
   "outputs": [
    {
     "name": "stdout",
     "output_type": "stream",
     "text": [
      "El numero mínimo del array es: 0.0\n"
     ]
    }
   ],
   "source": [
    "#Ejercicio 4\n",
    "min_array = np.min(array)\n",
    "min_array = np.round(min_array, decimals = 1)\n",
    "print('El numero mínimo del array es:', min_array)"
   ]
  },
  {
   "cell_type": "code",
   "execution_count": 15,
   "metadata": {},
   "outputs": [
    {
     "name": "stdout",
     "output_type": "stream",
     "text": [
      "['A', 'A']\n"
     ]
    }
   ],
   "source": [
    "#Ejercicio 5\n",
    "array_vacio1 = np.empty((2,3,5))\n",
    "\n",
    "lista = []\n",
    "\n",
    "for num in array:\n",
    "    if np.any(array == media_array):\n",
    "        lista += 'A'\n",
    "    elif np.any(array > media_array):\n",
    "        lista +='B'\n",
    "    elif np.any(array < media_array):\n",
    "        lista +='C'\n",
    "    else:\n",
    "        lista +='D'\n",
    "        \n",
    "print(lista)\n",
    "        \n"
   ]
  },
  {
   "cell_type": "code",
   "execution_count": 44,
   "metadata": {},
   "outputs": [
    {
     "name": "stdout",
     "output_type": "stream",
     "text": [
      "[[['B' 'B' 'B' 'B' 'B']\n",
      "  ['B' 'B' 'B' 'B' 'B']\n",
      "  ['B' 'B' 'B' 'B' 'B']]\n",
      "\n",
      " [['B' 'B' 'B' 'B' 'B']\n",
      "  ['B' 'B' 'B' 'B' 'B']\n",
      "  ['B' 'B' 'B' 'B' 'B']]]\n"
     ]
    },
    {
     "name": "stderr",
     "output_type": "stream",
     "text": [
      "/tmp/ipykernel_22836/197966875.py:1: FutureWarning: elementwise comparison failed; returning scalar instead, but in the future will perform elementwise comparison\n",
      "  array_vacio = np.where(array_vacio == media_array, 'A', array_vacio)\n"
     ]
    },
    {
     "ename": "TypeError",
     "evalue": "'<=' not supported between instances of 'numpy.ndarray' and 'numpy.ndarray'",
     "output_type": "error",
     "traceback": [
      "\u001b[0;31m---------------------------------------------------------------------------\u001b[0m",
      "\u001b[0;31mTypeError\u001b[0m                                 Traceback (most recent call last)",
      "\u001b[0;32m/tmp/ipykernel_22836/197966875.py\u001b[0m in \u001b[0;36m<module>\u001b[0;34m\u001b[0m\n\u001b[1;32m      1\u001b[0m \u001b[0marray_vacio\u001b[0m \u001b[0;34m=\u001b[0m \u001b[0mnp\u001b[0m\u001b[0;34m.\u001b[0m\u001b[0mwhere\u001b[0m\u001b[0;34m(\u001b[0m\u001b[0marray_vacio\u001b[0m \u001b[0;34m==\u001b[0m \u001b[0mmedia_array\u001b[0m\u001b[0;34m,\u001b[0m \u001b[0;34m'A'\u001b[0m\u001b[0;34m,\u001b[0m \u001b[0marray_vacio\u001b[0m\u001b[0;34m)\u001b[0m\u001b[0;34m\u001b[0m\u001b[0;34m\u001b[0m\u001b[0m\n\u001b[1;32m      2\u001b[0m \u001b[0mprint\u001b[0m\u001b[0;34m(\u001b[0m\u001b[0marray_vacio\u001b[0m\u001b[0;34m)\u001b[0m\u001b[0;34m\u001b[0m\u001b[0;34m\u001b[0m\u001b[0m\n\u001b[0;32m----> 3\u001b[0;31m \u001b[0marray_vacio\u001b[0m \u001b[0;34m=\u001b[0m \u001b[0mnp\u001b[0m\u001b[0;34m.\u001b[0m\u001b[0mwhere\u001b[0m\u001b[0;34m(\u001b[0m\u001b[0marray_vacio\u001b[0m \u001b[0;34m>=\u001b[0m \u001b[0mmedia_array\u001b[0m\u001b[0;34m,\u001b[0m \u001b[0;34m'B'\u001b[0m\u001b[0;34m,\u001b[0m \u001b[0marray_vacio\u001b[0m\u001b[0;34m)\u001b[0m\u001b[0;34m\u001b[0m\u001b[0;34m\u001b[0m\u001b[0m\n\u001b[0m\u001b[1;32m      4\u001b[0m \u001b[0;31m#array_vacio = np.where(array_vacio > media_array, 'C', array_vacio)\u001b[0m\u001b[0;34m\u001b[0m\u001b[0;34m\u001b[0m\u001b[0m\n",
      "\u001b[0;31mTypeError\u001b[0m: '<=' not supported between instances of 'numpy.ndarray' and 'numpy.ndarray'"
     ]
    }
   ],
   "source": [
    "\n",
    "array_vacio = np.where(array_vacio == media_array, 'A', array_vacio)\n",
    "print(array_vacio)\n",
    "array_vacio = np.where(array_vacio >= media_array, 'B', array_vacio)\n",
    "#array_vacio = np.where(array_vacio > media_array, 'C', array_vacio)\n"
   ]
  },
  {
   "cell_type": "code",
   "execution_count": 9,
   "metadata": {},
   "outputs": [
    {
     "name": "stderr",
     "output_type": "stream",
     "text": [
      "/tmp/ipykernel_22836/2590671831.py:2: FutureWarning: elementwise comparison failed; returning scalar instead, but in the future will perform elementwise comparison\n",
      "  if cosa == media_array:\n"
     ]
    },
    {
     "ename": "TypeError",
     "evalue": "'<' not supported between instances of 'numpy.ndarray' and 'numpy.ndarray'",
     "output_type": "error",
     "traceback": [
      "\u001b[0;31m---------------------------------------------------------------------------\u001b[0m",
      "\u001b[0;31mTypeError\u001b[0m                                 Traceback (most recent call last)",
      "\u001b[0;32m/tmp/ipykernel_22836/2590671831.py\u001b[0m in \u001b[0;36m<module>\u001b[0;34m\u001b[0m\n\u001b[1;32m      2\u001b[0m     \u001b[0;32mif\u001b[0m \u001b[0mcosa\u001b[0m \u001b[0;34m==\u001b[0m \u001b[0mmedia_array\u001b[0m\u001b[0;34m:\u001b[0m\u001b[0;34m\u001b[0m\u001b[0;34m\u001b[0m\u001b[0m\n\u001b[1;32m      3\u001b[0m         \u001b[0marray_vacio\u001b[0m \u001b[0;34m=\u001b[0m \u001b[0mnp\u001b[0m\u001b[0;34m.\u001b[0m\u001b[0mwhere\u001b[0m\u001b[0;34m(\u001b[0m\u001b[0marray_vacio\u001b[0m \u001b[0;34m==\u001b[0m \u001b[0mmedia_array\u001b[0m\u001b[0;34m,\u001b[0m \u001b[0;34m'A'\u001b[0m\u001b[0;34m,\u001b[0m \u001b[0marray_vacio\u001b[0m\u001b[0;34m)\u001b[0m\u001b[0;34m\u001b[0m\u001b[0;34m\u001b[0m\u001b[0m\n\u001b[0;32m----> 4\u001b[0;31m     \u001b[0;32melif\u001b[0m \u001b[0mcosa\u001b[0m \u001b[0;34m>\u001b[0m \u001b[0mmedia_array\u001b[0m\u001b[0;34m:\u001b[0m\u001b[0;34m\u001b[0m\u001b[0;34m\u001b[0m\u001b[0m\n\u001b[0m\u001b[1;32m      5\u001b[0m         \u001b[0marray_vacio\u001b[0m \u001b[0;34m=\u001b[0m \u001b[0mnp\u001b[0m\u001b[0;34m.\u001b[0m\u001b[0mwhere\u001b[0m\u001b[0;34m(\u001b[0m\u001b[0marray_vacio\u001b[0m \u001b[0;34m>\u001b[0m \u001b[0mmedia_array\u001b[0m\u001b[0;34m,\u001b[0m \u001b[0;34m'B'\u001b[0m\u001b[0;34m,\u001b[0m \u001b[0marray_vacio\u001b[0m\u001b[0;34m)\u001b[0m\u001b[0;34m\u001b[0m\u001b[0;34m\u001b[0m\u001b[0m\n\u001b[1;32m      6\u001b[0m     \u001b[0;32melif\u001b[0m \u001b[0mcosa\u001b[0m \u001b[0;34m<\u001b[0m \u001b[0mmedia_array\u001b[0m\u001b[0;34m:\u001b[0m\u001b[0;34m\u001b[0m\u001b[0;34m\u001b[0m\u001b[0m\n",
      "\u001b[0;31mTypeError\u001b[0m: '<' not supported between instances of 'numpy.ndarray' and 'numpy.ndarray'"
     ]
    }
   ],
   "source": [
    "for cosa in array_vacio:\n",
    "    if cosa == media_array:\n",
    "        array_vacio = np.where(array_vacio == media_array, 'A', array_vacio)\n",
    "    elif cosa > media_array:\n",
    "        array_vacio = np.where(array_vacio > media_array, 'B', array_vacio)\n",
    "    elif cosa < media_array:\n",
    "        array_vacio = np.where(array_vacio < media_array, 'C', array_vacio)\n",
    "\n",
    "print(array_vacio)"
   ]
  },
  {
   "cell_type": "code",
   "execution_count": 33,
   "metadata": {},
   "outputs": [
    {
     "ename": "ValueError",
     "evalue": "The truth value of an array with more than one element is ambiguous. Use a.any() or a.all()",
     "output_type": "error",
     "traceback": [
      "\u001b[0;31m---------------------------------------------------------------------------\u001b[0m",
      "\u001b[0;31mValueError\u001b[0m                                Traceback (most recent call last)",
      "\u001b[0;32m/tmp/ipykernel_22836/1370816885.py\u001b[0m in \u001b[0;36m<module>\u001b[0;34m\u001b[0m\n\u001b[0;32m----> 1\u001b[0;31m \u001b[0marray_vacio1\u001b[0m \u001b[0;34m=\u001b[0m \u001b[0mnp\u001b[0m\u001b[0;34m.\u001b[0m\u001b[0mall\u001b[0m\u001b[0;34m(\u001b[0m\u001b[0;34m[\u001b[0m\u001b[0;34m'B'\u001b[0m \u001b[0;32mif\u001b[0m \u001b[0mnum\u001b[0m \u001b[0;34m<\u001b[0m \u001b[0mmedia_array\u001b[0m \u001b[0;32melse\u001b[0m \u001b[0;34m'C'\u001b[0m \u001b[0;32mfor\u001b[0m \u001b[0mnum\u001b[0m \u001b[0;32min\u001b[0m \u001b[0marray_vacio1\u001b[0m\u001b[0;34m]\u001b[0m\u001b[0;34m)\u001b[0m\u001b[0;34m\u001b[0m\u001b[0;34m\u001b[0m\u001b[0m\n\u001b[0m\u001b[1;32m      2\u001b[0m \u001b[0mprint\u001b[0m\u001b[0;34m(\u001b[0m\u001b[0marray_vacio1\u001b[0m\u001b[0;34m)\u001b[0m\u001b[0;34m\u001b[0m\u001b[0;34m\u001b[0m\u001b[0m\n",
      "\u001b[0;32m/tmp/ipykernel_22836/1370816885.py\u001b[0m in \u001b[0;36m<listcomp>\u001b[0;34m(.0)\u001b[0m\n\u001b[0;32m----> 1\u001b[0;31m \u001b[0marray_vacio1\u001b[0m \u001b[0;34m=\u001b[0m \u001b[0mnp\u001b[0m\u001b[0;34m.\u001b[0m\u001b[0mall\u001b[0m\u001b[0;34m(\u001b[0m\u001b[0;34m[\u001b[0m\u001b[0;34m'B'\u001b[0m \u001b[0;32mif\u001b[0m \u001b[0mnum\u001b[0m \u001b[0;34m<\u001b[0m \u001b[0mmedia_array\u001b[0m \u001b[0;32melse\u001b[0m \u001b[0;34m'C'\u001b[0m \u001b[0;32mfor\u001b[0m \u001b[0mnum\u001b[0m \u001b[0;32min\u001b[0m \u001b[0marray_vacio1\u001b[0m\u001b[0;34m]\u001b[0m\u001b[0;34m)\u001b[0m\u001b[0;34m\u001b[0m\u001b[0;34m\u001b[0m\u001b[0m\n\u001b[0m\u001b[1;32m      2\u001b[0m \u001b[0mprint\u001b[0m\u001b[0;34m(\u001b[0m\u001b[0marray_vacio1\u001b[0m\u001b[0;34m)\u001b[0m\u001b[0;34m\u001b[0m\u001b[0;34m\u001b[0m\u001b[0m\n",
      "\u001b[0;31mValueError\u001b[0m: The truth value of an array with more than one element is ambiguous. Use a.any() or a.all()"
     ]
    }
   ],
   "source": [
    "array_vacio1 = np.all(['B' if num < media_array else 'C' for num in array_vacio1])\n",
    "print(array_vacio1)"
   ]
  },
  {
   "cell_type": "code",
   "execution_count": 38,
   "metadata": {},
   "outputs": [
    {
     "data": {
      "text/plain": [
       "4.833333333333333"
      ]
     },
     "execution_count": 38,
     "metadata": {},
     "output_type": "execute_result"
    }
   ],
   "source": [
    "prueba_array1 = np.random.randint(1,10,(2,3))\n",
    "prueba_array1\n",
    "\n",
    "media_prueba_array1 = np.mean(prueba_array1)\n",
    "media_prueba_array1"
   ]
  },
  {
   "cell_type": "code",
   "execution_count": 39,
   "metadata": {},
   "outputs": [],
   "source": [
    "prueba_vacio1 = np.empty_like(prueba_array1)"
   ]
  },
  {
   "cell_type": "code",
   "execution_count": 43,
   "metadata": {},
   "outputs": [
    {
     "name": "stdout",
     "output_type": "stream",
     "text": [
      "[[2000 2000 2000]\n",
      " [2000 2000 2000]]\n"
     ]
    }
   ],
   "source": [
    "#prueba_array1[prueba_array1 == media_prueba_array1] = 1000\n",
    "prueba_array1[prueba_array1 <= media_prueba_array1] = 1000\n",
    "prueba_array1[prueba_array1 >= media_prueba_array1] = 2000\n",
    "print(prueba_array1)"
   ]
  },
  {
   "cell_type": "code",
   "execution_count": 3,
   "metadata": {},
   "outputs": [
    {
     "data": {
      "text/plain": [
       "array([[[0.8, 0.6, 0.5, 0.9, 0.5],\n",
       "        [0.4, 0. , 0.2, 0.4, 0.8],\n",
       "        [0.2, 0.2, 0.2, 0.9, 0.3]],\n",
       "\n",
       "       [[0.4, 0. , 0.9, 0.5, 0.2],\n",
       "        [0.9, 0.6, 0.4, 0.9, 0.8],\n",
       "        [0.8, 0.9, 0.9, 0. , 0.2]]])"
      ]
     },
     "execution_count": 3,
     "metadata": {},
     "output_type": "execute_result"
    }
   ],
   "source": [
    "matriz = np.random.rand(2,3,5)\n",
    "matriz =np.round(matriz, decimals=1)\n",
    "\n",
    "media_matriz = np.mean(matriz)\n",
    "\n",
    "matriz_vacia = np.empty_like(matriz)\n",
    "matriz\n"
   ]
  },
  {
   "cell_type": "code",
   "execution_count": 7,
   "metadata": {},
   "outputs": [
    {
     "name": "stdout",
     "output_type": "stream",
     "text": [
      "[[[3. 3. 3. 3. 3.]\n",
      "  [3. 3. 3. 3. 3.]\n",
      "  [3. 3. 3. 3. 3.]]\n",
      "\n",
      " [[3. 3. 3. 3. 3.]\n",
      "  [3. 3. 3. 3. 3.]\n",
      "  [3. 3. 3. 3. 3.]]]\n"
     ]
    }
   ],
   "source": [
    "for bloque in range(len(matriz)):\n",
    "    for fila in range(len(matriz[bloque])):\n",
    "        for numero in range(fila):\n",
    "            if numero == media_matriz:\n",
    "                num = 1 #A\n",
    "            if numero < media_matriz:\n",
    "                num = 2 #B\n",
    "            if numero > media_matriz:\n",
    "                num = 3 #C\n",
    "\n",
    "#matriz_vacia[bloque][fila][numero] = num\n",
    "matriz_vacia.fill(num)\n",
    "print(matriz_vacia)"
   ]
  },
  {
   "cell_type": "code",
   "execution_count": 23,
   "metadata": {},
   "outputs": [
    {
     "data": {
      "text/plain": [
       "array([[[1. , 0.9, 0.2, 0.6, 0.1],\n",
       "        [0.6, 0.4, 0.5, 1. , 0.9],\n",
       "        [0.5, 0.7, 0.6, 0.5, 0.2]],\n",
       "\n",
       "       [[0.2, 0.6, 0.7, 1. , 0.6],\n",
       "        [0.4, 0.4, 0.5, 0.9, 0.5],\n",
       "        [0.9, 0.2, 0.6, 0.9, 0.6]]])"
      ]
     },
     "execution_count": 23,
     "metadata": {},
     "output_type": "execute_result"
    }
   ],
   "source": [
    "#Mas pruebas\n",
    "matriz = np.random.rand(2,3,5)\n",
    "matriz =np.round(matriz, decimals=1)\n",
    "\n",
    "media_matriz = np.mean(matriz)\n",
    "max_array = np.max(matriz)\n",
    "max_array = np.round(max_array, decimals = 1)\n",
    "min_array = np.min(matriz)\n",
    "min_array = np.round(min_array, decimals = 1)\n",
    "\n",
    "matriz_vacia = np.empty((2,3,5), str)\n",
    "#matriz_vacia = str(matriz_vacia)\n",
    "matriz"
   ]
  },
  {
   "cell_type": "code",
   "execution_count": 26,
   "metadata": {},
   "outputs": [
    {
     "name": "stdout",
     "output_type": "stream",
     "text": [
      "0 ----> 0 ----> 0\n",
      "0 ----> 0 ----> 1\n",
      "0 ----> 0 ----> 2\n",
      "0 ----> 0 ----> 3\n",
      "0 ----> 0 ----> 4\n",
      "0 ----> 1 ----> 0\n",
      "0 ----> 1 ----> 1\n",
      "0 ----> 1 ----> 2\n",
      "0 ----> 1 ----> 3\n",
      "0 ----> 1 ----> 4\n",
      "0 ----> 2 ----> 0\n",
      "0 ----> 2 ----> 1\n",
      "0 ----> 2 ----> 2\n",
      "0 ----> 2 ----> 3\n",
      "0 ----> 2 ----> 4\n",
      "1 ----> 0 ----> 0\n",
      "1 ----> 0 ----> 1\n",
      "1 ----> 0 ----> 2\n",
      "1 ----> 0 ----> 3\n",
      "1 ----> 0 ----> 4\n",
      "1 ----> 1 ----> 0\n",
      "1 ----> 1 ----> 1\n",
      "1 ----> 1 ----> 2\n",
      "1 ----> 1 ----> 3\n",
      "1 ----> 1 ----> 4\n",
      "1 ----> 2 ----> 0\n",
      "1 ----> 2 ----> 1\n",
      "1 ----> 2 ----> 2\n",
      "1 ----> 2 ----> 3\n",
      "1 ----> 2 ----> 4\n"
     ]
    }
   ],
   "source": [
    "for matriz_ in range(matriz.shape[0]):\n",
    "    for fila in range(matriz.shape[1]):\n",
    "        for columna in range(matriz.shape[2]):\n",
    "            \n",
    "            if matriz[matriz_][fila][columna] == media_matriz:\n",
    "                matriz_vacia[matriz_][fila][columna] == \"A\"\n",
    "         \n",
    "            elif matriz[matriz_][fila][columna] == max_array:\n",
    "                matriz_vacia[matriz_][fila][columna] == \"B\"\n"
   ]
  },
  {
   "cell_type": "code",
   "execution_count": 10,
   "metadata": {},
   "outputs": [
    {
     "data": {
      "text/plain": [
       "array([[['E', 'D', 'C', 'C', 'C'],\n",
       "        ['E', 'D', 'C', 'C', 'C'],\n",
       "        ['E', 'D', 'C', 'C', 'C']],\n",
       "\n",
       "       [['E', 'D', 'C', 'C', 'C'],\n",
       "        ['E', 'D', 'C', 'C', 'C'],\n",
       "        ['E', 'D', 'C', 'C', 'C']]], dtype='<U1')"
      ]
     },
     "execution_count": 10,
     "metadata": {},
     "output_type": "execute_result"
    }
   ],
   "source": [
    "#Mas pruebas\n",
    "\n",
    "for bloque in range(len(matriz)):\n",
    "    for fila in range(len(matriz[bloque])):\n",
    "        for numero in range(len(matriz[bloque, fila])):\n",
    "            #pri                       nt(numero)\n",
    "            if numero == media_matriz:\n",
    "                num = 'A'\n",
    "            elif numero == max_array:\n",
    "                num = 'D'\n",
    "            elif numero == min_array:\n",
    "                num = 'E'\n",
    "            elif numero < media_matriz:\n",
    "                num = 'B'\n",
    "            elif numero > media_matriz:\n",
    "                num = 'C'\n",
    "            matriz_vacia[bloque][fila][numero] = num\n",
    "#matriz_vacia.fill(num)\n",
    "matriz_vacia"
   ]
  },
  {
   "cell_type": "code",
   "execution_count": null,
   "metadata": {},
   "outputs": [],
   "source": [
    "#Mas pruebas\n",
    "# print(media_matriz)\n",
    "# print(matriz)\n",
    "# print(max_array)\n",
    "# print(min_array)\n",
    "\n",
    "\n",
    "for bloque in range(len(matriz)):\n",
    "    for fila in range(len(matriz[bloque])):\n",
    "        for numero in range(len(matriz[bloque, fila])):\n",
    "            valor = matriz_vacia[bloque][fila][numero]\n",
    "            if valor == media_matriz:\n",
    "                num = 'A'\n",
    "            if valor < media_matriz:\n",
    "                num = 'B'\n",
    "            if valor > media_matriz:\n",
    "                num = 'C'\n",
    "            if valor == max_array:\n",
    "                num = 'D'\n",
    "            if valor == min_array:\n",
    "                num = 'E'\n",
    "            matriz_vacia[bloque][fila][numero] = num\n",
    "matriz_vacia.fill(num)\n",
    "matriz_vacia"
   ]
  },
  {
   "cell_type": "code",
   "execution_count": 6,
   "metadata": {},
   "outputs": [
    {
     "data": {
      "text/plain": [
       "array([[['', '', '', '', ''],\n",
       "        ['', '', '', '', ''],\n",
       "        ['', '', '', '', '']],\n",
       "\n",
       "       [['', '', '', '', ''],\n",
       "        ['', '', '', '', ''],\n",
       "        ['', '', '', '', '']]], dtype='<U1')"
      ]
     },
     "execution_count": 6,
     "metadata": {},
     "output_type": "execute_result"
    }
   ],
   "source": [
    "matriz_1 = np.random.rand(2,3,5)\n",
    "matriz_1 =np.round(matriz_1, decimals=1)\n",
    "\n",
    "media_matriz_1 = np.mean(matriz_1)\n",
    "\n",
    "matriz_vacia_1 = np.empty_like((matriz_1), str)\n",
    "matriz_vacia_1\n"
   ]
  }
 ],
 "metadata": {
  "interpreter": {
   "hash": "ef996a58dd4038b19127a5b342ff558a720418179ddf7c29df6339888c2ae8ac"
  },
  "kernelspec": {
   "display_name": "Python 3.9.7 ('base')",
   "language": "python",
   "name": "python3"
  },
  "language_info": {
   "codemirror_mode": {
    "name": "ipython",
    "version": 3
   },
   "file_extension": ".py",
   "mimetype": "text/x-python",
   "name": "python",
   "nbconvert_exporter": "python",
   "pygments_lexer": "ipython3",
   "version": "3.9.7"
  },
  "orig_nbformat": 4
 },
 "nbformat": 4,
 "nbformat_minor": 2
}
