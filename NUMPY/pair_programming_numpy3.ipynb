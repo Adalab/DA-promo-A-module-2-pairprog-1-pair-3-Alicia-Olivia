{
 "cells": [
  {
   "cell_type": "code",
   "execution_count": 9,
   "metadata": {},
   "outputs": [],
   "source": [
    "import numpy as np"
   ]
  },
  {
   "cell_type": "code",
   "execution_count": 10,
   "metadata": {},
   "outputs": [
    {
     "data": {
      "text/plain": [
       "array([[[0.6, 0.5, 0.6, 0.4, 0. ],\n",
       "        [0.9, 0.7, 0.5, 0.7, 1. ],\n",
       "        [0.2, 0.8, 0.2, 0.7, 0.4]],\n",
       "\n",
       "       [[0.2, 0.8, 0.9, 0.7, 0.7],\n",
       "        [0.6, 0.7, 0.2, 0.8, 0.1],\n",
       "        [0.4, 0.2, 0.1, 0.1, 0.6]]])"
      ]
     },
     "execution_count": 10,
     "metadata": {},
     "output_type": "execute_result"
    }
   ],
   "source": [
    "#Ejercicio 1: Creamos array\n",
    "matriz = np.random.rand(2,3,5)\n",
    "matriz =np.round(matriz, decimals=1)\n",
    "matriz"
   ]
  },
  {
   "cell_type": "code",
   "execution_count": 11,
   "metadata": {},
   "outputs": [
    {
     "name": "stdout",
     "output_type": "stream",
     "text": [
      "La media del array es: 0.5\n"
     ]
    }
   ],
   "source": [
    "#Ejercicio 2\n",
    "media_matriz = np.mean(matriz)\n",
    "media_matriz = np.round(media_matriz, decimals = 1)\n",
    "print('La media del array es:', media_matriz)\n"
   ]
  },
  {
   "cell_type": "code",
   "execution_count": 12,
   "metadata": {},
   "outputs": [
    {
     "name": "stdout",
     "output_type": "stream",
     "text": [
      "El numero máximo del array es: 1.0\n"
     ]
    }
   ],
   "source": [
    "#Ejercicio 3\n",
    "max_matriz = np.max(matriz)\n",
    "max_matriz = np.round(max_matriz, decimals = 1)\n",
    "print('El numero máximo del array es:', max_matriz)"
   ]
  },
  {
   "cell_type": "code",
   "execution_count": 13,
   "metadata": {},
   "outputs": [
    {
     "name": "stdout",
     "output_type": "stream",
     "text": [
      "El numero mínimo del array es: 0.0\n"
     ]
    }
   ],
   "source": [
    "#Ejercicio 4\n",
    "min_matriz = np.min(matriz)\n",
    "min_matriz = np.round(min_matriz, decimals = 1)\n",
    "print('El numero mínimo del array es:', min_matriz)"
   ]
  },
  {
   "cell_type": "code",
   "execution_count": 14,
   "metadata": {},
   "outputs": [
    {
     "data": {
      "text/plain": [
       "array([[['B', 'A', 'B', 'C', 'E'],\n",
       "        ['B', 'B', 'A', 'B', 'D'],\n",
       "        ['C', 'B', 'C', 'B', 'C']],\n",
       "\n",
       "       [['C', 'B', 'B', 'B', 'B'],\n",
       "        ['B', 'B', 'C', 'B', 'C'],\n",
       "        ['C', 'C', 'C', 'C', 'B']]], dtype='<U1')"
      ]
     },
     "execution_count": 14,
     "metadata": {},
     "output_type": "execute_result"
    }
   ],
   "source": [
    "#Ejercicio 5\n",
    "matriz_vacia = np.empty_like((matriz), str)\n",
    "matriz_vacia\n",
    "\n",
    "for bloque in range(matriz.shape[0]):\n",
    "    for fila in range(matriz.shape[1]):\n",
    "        for columna in range(matriz.shape[2]):\n",
    "            if matriz[bloque][fila][columna] == media_matriz:\n",
    "                matriz_vacia[bloque][fila][columna] = \"A\"\n",
    "            elif matriz[bloque][fila][columna] == max_matriz:\n",
    "                matriz_vacia[bloque][fila][columna] = \"D\"\n",
    "            elif matriz[bloque][fila][columna] == min_matriz:\n",
    "                matriz_vacia[bloque][fila][columna] = \"E\"\n",
    "            elif matriz[bloque][fila][columna] > media_matriz:\n",
    "                matriz_vacia[bloque][fila][columna] = \"B\"\n",
    "            elif matriz[bloque][fila][columna] < media_matriz:\n",
    "                matriz_vacia[bloque][fila][columna] = \"C\"\n",
    "\n",
    "matriz_vacia\n",
    "        \n"
   ]
  }
 ],
 "metadata": {
  "interpreter": {
   "hash": "ef996a58dd4038b19127a5b342ff558a720418179ddf7c29df6339888c2ae8ac"
  },
  "kernelspec": {
   "display_name": "Python 3.9.7 ('base')",
   "language": "python",
   "name": "python3"
  },
  "language_info": {
   "codemirror_mode": {
    "name": "ipython",
    "version": 3
   },
   "file_extension": ".py",
   "mimetype": "text/x-python",
   "name": "python",
   "nbconvert_exporter": "python",
   "pygments_lexer": "ipython3",
   "version": "3.9.7"
  },
  "orig_nbformat": 4
 },
 "nbformat": 4,
 "nbformat_minor": 2
}
