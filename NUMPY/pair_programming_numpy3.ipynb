{
 "cells": [
  {
   "cell_type": "code",
   "execution_count": 1,
   "metadata": {},
   "outputs": [],
   "source": [
    "import numpy as np"
   ]
  },
  {
   "cell_type": "code",
   "execution_count": 3,
   "metadata": {},
   "outputs": [
    {
     "data": {
      "text/plain": [
       "array([[[1. , 0.8, 1. , 0.6, 0.4],\n",
       "        [0.2, 0.8, 0.5, 0.7, 0.1],\n",
       "        [0.6, 0.4, 0.8, 0.5, 0.6]],\n",
       "\n",
       "       [[0.1, 0.5, 0.6, 0.7, 0.3],\n",
       "        [0.1, 0.2, 0.8, 0.3, 0.3],\n",
       "        [0.1, 0.7, 0.6, 0.1, 0.6]]])"
      ]
     },
     "execution_count": 3,
     "metadata": {},
     "output_type": "execute_result"
    }
   ],
   "source": [
    "#Creamos array\n",
    "array = np.random.rand(2,3,5)\n",
    "array =np.round(array, decimals=1)\n",
    "array"
   ]
  },
  {
   "cell_type": "code",
   "execution_count": 6,
   "metadata": {},
   "outputs": [
    {
     "name": "stdout",
     "output_type": "stream",
     "text": [
      "La media del array es: 0.5 \n",
      "\n"
     ]
    }
   ],
   "source": [
    "#Ejercicio1\n",
    "media_array = np.mean(array)\n",
    "media_array = np.round(media_array, decimals = 1)\n",
    "print('La media del array es:', media_array)\n"
   ]
  },
  {
   "cell_type": "code",
   "execution_count": 7,
   "metadata": {},
   "outputs": [
    {
     "name": "stdout",
     "output_type": "stream",
     "text": [
      "El numero máximo del array es: 1.0\n"
     ]
    }
   ],
   "source": [
    "#Ejercicio 2\n",
    "max_array = np.max(array)\n",
    "max_array = np.round(max_array, decimals = 1)\n",
    "print('El numero máximo del array es:', max_array)"
   ]
  },
  {
   "cell_type": "code",
   "execution_count": 8,
   "metadata": {},
   "outputs": [
    {
     "name": "stdout",
     "output_type": "stream",
     "text": [
      "El numero mínimo del array es: 0.1\n"
     ]
    }
   ],
   "source": [
    "#Ejercicio 3\n",
    "min_array = np.min(array)\n",
    "min_array = np.round(min_array, decimals = 1)\n",
    "print('El numero mínimo del array es:', min_array)"
   ]
  },
  {
   "cell_type": "code",
   "execution_count": 24,
   "metadata": {},
   "outputs": [
    {
     "name": "stdout",
     "output_type": "stream",
     "text": [
      "['A', 'A']\n"
     ]
    }
   ],
   "source": [
    "#Ejercicio 4\n",
    "array_vacio = np.empty((2,3,5))\n",
    "\n",
    "lista = []\n",
    "\n",
    "for num in array:\n",
    "    if np.any(array == media_array):\n",
    "        lista += 'A'\n",
    "    elif np.any(array > media_array):\n",
    "        lista +='B'\n",
    "    elif np.any(array < media_array):\n",
    "        lista +='C'\n",
    "    else:\n",
    "        lista +='D'\n",
    "        \n",
    "print(lista)\n",
    "        \n"
   ]
  },
  {
   "cell_type": "code",
   "execution_count": 25,
   "metadata": {},
   "outputs": [
    {
     "name": "stdout",
     "output_type": "stream",
     "text": [
      "[[['A' 'A' 'A' 'A' '0.4']\n",
      "  ['0.2' 'A' '0.5' 'A' '0.1']\n",
      "  ['A' '0.4' 'A' '0.5' 'A']]\n",
      "\n",
      " [['0.1' '0.5' 'A' 'A' '0.3']\n",
      "  ['0.1' '0.2' 'A' '0.3' '0.3']\n",
      "  ['0.1' 'A' 'A' '0.1' 'A']]]\n"
     ]
    }
   ],
   "source": [
    "array_vacio = np.where(array_vacio > media_array, 'A', array_vacio)\n",
    "print(array_vacio)"
   ]
  }
 ],
 "metadata": {
  "interpreter": {
   "hash": "ef996a58dd4038b19127a5b342ff558a720418179ddf7c29df6339888c2ae8ac"
  },
  "kernelspec": {
   "display_name": "Python 3.9.7 ('base')",
   "language": "python",
   "name": "python3"
  },
  "language_info": {
   "codemirror_mode": {
    "name": "ipython",
    "version": 3
   },
   "file_extension": ".py",
   "mimetype": "text/x-python",
   "name": "python",
   "nbconvert_exporter": "python",
   "pygments_lexer": "ipython3",
   "version": "3.9.7"
  },
  "orig_nbformat": 4
 },
 "nbformat": 4,
 "nbformat_minor": 2
}
