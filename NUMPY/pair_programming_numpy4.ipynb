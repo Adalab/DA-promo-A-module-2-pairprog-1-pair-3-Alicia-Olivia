{
 "cells": [
  {
   "cell_type": "code",
   "execution_count": 4,
   "metadata": {},
   "outputs": [],
   "source": [
    "import numpy as np"
   ]
  },
  {
   "cell_type": "code",
   "execution_count": 5,
   "metadata": {},
   "outputs": [
    {
     "data": {
      "text/plain": [
       "array([[4.17022005e-01, 7.20324493e-01, 1.14374817e-04],\n",
       "       [3.02332573e-01, 1.46755891e-01, 9.23385948e-02]])"
      ]
     },
     "execution_count": 5,
     "metadata": {},
     "output_type": "execute_result"
    }
   ],
   "source": [
    "#Ejercicio 1\n",
    "np.random.seed(1)\n",
    "array1 = np.random.random_sample((2,3))\n",
    "array1"
   ]
  },
  {
   "cell_type": "code",
   "execution_count": 6,
   "metadata": {},
   "outputs": [
    {
     "data": {
      "text/plain": [
       "array([[4.17022005e-01, 7.20324493e-01, 1.14374817e-04],\n",
       "       [3.02332573e-01, 1.46755891e-01, 9.23385948e-02]])"
      ]
     },
     "execution_count": 6,
     "metadata": {},
     "output_type": "execute_result"
    }
   ],
   "source": [
    "np.random.seed(1)\n",
    "array2 = np.random.random_sample((2,3))\n",
    "array2"
   ]
  },
  {
   "cell_type": "code",
   "execution_count": 19,
   "metadata": {},
   "outputs": [
    {
     "data": {
      "text/plain": [
       "array([ 0.,  1.,  2.,  3.,  4.,  5.,  6.,  7.,  8.,  9., 10.])"
      ]
     },
     "execution_count": 19,
     "metadata": {},
     "output_type": "execute_result"
    }
   ],
   "source": [
    "#Ejericicio 2:\n",
    "\n",
    "sol = np.random.uniform(0,10,size = (2,3,5))\n",
    "sol = np.round(sol, decimals = 0)\n",
    "sol\n",
    "\n",
    "valores_unicos_sol = np.unique(sol)\n",
    "valores_unicos_sol"
   ]
  },
  {
   "cell_type": "code",
   "execution_count": 8,
   "metadata": {},
   "outputs": [
    {
     "data": {
      "text/plain": [
       "array([0, 1, 2, 3, 4, 5, 6])"
      ]
     },
     "execution_count": 8,
     "metadata": {},
     "output_type": "execute_result"
    }
   ],
   "source": [
    "cielo = np.random.binomial(10, 0.3, size = (2,3,5))\n",
    "cielo\n",
    "\n",
    "valores_unicos_cielo = np.unique(cielo)\n",
    "valores_unicos_cielo"
   ]
  },
  {
   "cell_type": "code",
   "execution_count": 12,
   "metadata": {},
   "outputs": [
    {
     "name": "stdout",
     "output_type": "stream",
     "text": [
      "Intersección de los arrays: [0. 1. 2. 3. 4. 5. 6.] \n",
      "\n",
      "La unión de los arrays: [ 0.  1.  2.  3.  4.  5.  6.  7.  8.  9. 10.] \n",
      "\n",
      "Los valores únicos no comunes de los arrays: [ 7.  8.  9. 10.]\n"
     ]
    }
   ],
   "source": [
    "#Ejercicio 3\n",
    "interseccion = np.intersect1d(sol,cielo)\n",
    "print('Intersección de los arrays:',interseccion,'\\n') #valores unicos comunes en los dos arrays\n",
    "union = np.union1d(sol, cielo)\n",
    "print('La unión de los arrays:',union,'\\n')            #Une los valores de los arrays sin duplicados\n",
    "diferencia_conjunta = np.setdiff1d(sol, cielo)\n",
    "print('Los valores únicos en sol pero no en cielo:', diferencia_conjunta) #valores únicos que están en sol pero no en cielo\n",
    "                                                                          #si cambiamos el orden de los arrays saldrán los que\n",
    "                                                                          #están en cielo pero no en sol."
   ]
  },
  {
   "cell_type": "code",
   "execution_count": 29,
   "metadata": {},
   "outputs": [
    {
     "data": {
      "text/plain": [
       "array([0.22843752, 0.10253022, 0.74248998, 0.98520391, 0.25337959,\n",
       "       0.4436461 , 0.67804084, 0.49128817, 0.23321602, 0.04593675,\n",
       "       0.54744656, 0.09649437, 0.11627475, 0.97571623, 0.40562445,\n",
       "       0.88637191, 0.06041313, 0.15136477, 0.23586686, 0.4207642 ,\n",
       "       0.02829581, 0.33663294, 0.20637762, 0.28987521, 0.36860197,\n",
       "       0.45707317, 0.0240101 , 0.82811755, 0.90252243, 0.83811903,\n",
       "       0.22944513, 0.36426927, 0.4877371 , 0.40182828, 0.58223021,\n",
       "       0.48362661, 0.55239384, 0.65931242, 0.47648046, 0.71129948,\n",
       "       0.7249678 , 0.60616181, 0.45143285, 0.09318096, 0.51069503,\n",
       "       0.45789736, 0.65800185, 0.7422845 , 0.07780526, 0.28673066,\n",
       "       0.01068219, 0.46335869, 0.19484706, 0.70412929, 0.83039206,\n",
       "       0.84944397, 0.14247262, 0.03006604, 0.51393646, 0.36715929,\n",
       "       0.22954562, 0.75142857, 0.97649672, 0.30055132, 0.34591451,\n",
       "       0.77663079, 0.53541247, 0.77120629, 0.89568756, 0.29735281,\n",
       "       0.99093551, 0.64957015, 0.43128065, 0.11558586, 0.51707886,\n",
       "       0.21643363, 0.79148415, 0.1086058 , 0.21921635, 0.81718755])"
      ]
     },
     "execution_count": 29,
     "metadata": {},
     "output_type": "execute_result"
    }
   ],
   "source": [
    "#Ejercicio 4:\n",
    "array_1 = np.random.rand(80)\n",
    "array_1\n",
    "\n",
    "array_2 = np.random.rand(80)\n",
    "array_2"
   ]
  },
  {
   "cell_type": "code",
   "execution_count": 32,
   "metadata": {},
   "outputs": [],
   "source": [
    "array_1 = np.unique(array_1)\n",
    "array_2 = np.unique(array_2)\n",
    "array_3 = np.setdiff1d(array_1, array_2)\n",
    "array_4 = np.setdiff1d(array_2, array_1)\n",
    "array_5 = np.intersect1d(array_1, array_2)"
   ]
  },
  {
   "cell_type": "code",
   "execution_count": 34,
   "metadata": {},
   "outputs": [
    {
     "name": "stdout",
     "output_type": "stream",
     "text": [
      "80\n",
      "80\n",
      "80\n",
      "80\n",
      "0\n"
     ]
    }
   ],
   "source": [
    "print(len(array_1))\n",
    "print(len(array_2))\n",
    "print(len(array_3))\n",
    "print(len(array_4))\n",
    "print(len(array_5))"
   ]
  }
 ],
 "metadata": {
  "interpreter": {
   "hash": "ef996a58dd4038b19127a5b342ff558a720418179ddf7c29df6339888c2ae8ac"
  },
  "kernelspec": {
   "display_name": "Python 3.9.7 ('base')",
   "language": "python",
   "name": "python3"
  },
  "language_info": {
   "codemirror_mode": {
    "name": "ipython",
    "version": 3
   },
   "file_extension": ".py",
   "mimetype": "text/x-python",
   "name": "python",
   "nbconvert_exporter": "python",
   "pygments_lexer": "ipython3",
   "version": "3.9.7"
  },
  "orig_nbformat": 4
 },
 "nbformat": 4,
 "nbformat_minor": 2
}
