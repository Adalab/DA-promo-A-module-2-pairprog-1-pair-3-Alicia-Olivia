{
 "cells": [
  {
   "cell_type": "code",
   "execution_count": 1,
   "metadata": {},
   "outputs": [],
   "source": [
    "import pandas as pd\n",
    "import numpy as np\n",
    "import pickle\n",
    "import bz2"
   ]
  },
  {
   "cell_type": "markdown",
   "metadata": {},
   "source": [
    "Id cargando todos los ficheros en vuestro jupyter.\n",
    "Si no os salga leer el pickle será por la versión de pandas. Podéis guardar el csv como pickle y cargarlo de ahí."
   ]
  },
  {
   "cell_type": "code",
   "execution_count": 2,
   "metadata": {},
   "outputs": [],
   "source": [
    "df_csv = pd.read_csv('quejas.csv', encoding='latin1', sep=';')\n",
    "df_csv.head()\n",
    "\n",
    "df_excel = pd.read_excel('quejas2.xlsx')\n",
    "df_excel.head()\n",
    "\n",
    "df_json = pd.read_json('quejas.json')\n",
    "df_json.head()\n",
    "df_json1 = df_json['data'].apply(pd.Series)\n",
    "df_json1.head()\n",
    "\n",
    "#El archivo pickle(algas) no se puede abrir. Si cambiamos el archivo csv a pickle si que se puede abrir.\n",
    "#Nuestra idea era guardar el pickle como csv y abrirlo desde ahi pero tampoco nos funciona, porque coge el archivo como str.\n",
    "\n",
    "# df_csv.to_pickle('csv_a_pickle.csv')\n",
    "# df_pickle2 = pd.read_pickle('csv_a_pickle.pickle')\n",
    "# df_pickle2.head()\n",
    "\n",
    "df_pickle = pd.read_pickle('algas.pickle')\n"
   ]
  },
  {
   "cell_type": "markdown",
   "metadata": {},
   "source": [
    "Para poner el práctica el read_clipboard elegir alguna tabla que os podaís encontrar en google y usad el dicho método para traer los datos al jupyter notebook. Una vez que los hayáis cargado, guardad esos datos en los siguientes formatos:\n",
    ".csv\n",
    ".excel\n",
    ".json\n",
    ".pickle"
   ]
  },
  {
   "cell_type": "code",
   "execution_count": 9,
   "metadata": {},
   "outputs": [],
   "source": [
    "df_clip = pd.read_clipboard(sep = '\\t')\n",
    "df_clip.head()\n",
    "tabla_ine = df_clip.copy()\n",
    "\n",
    "tabla_ine.to_csv('tabla_ine.csv')\n",
    "tabla_ine.to_excel('tabla_ine.xlsx')\n",
    "tabla_ine.to_json('tabla_ine.json')\n",
    "tabla_ine.to_pickle('tabla_ine.pickle')"
   ]
  },
  {
   "cell_type": "markdown",
   "metadata": {},
   "source": [
    "- Usamos el clipboard para copiar una tabla de internet y hacemos una copia de ella para guardarla con diferentes extensiones. \n",
    "- Deberiamos comentar ese trozo de código para que en caso de que esa celda se vuelva a ejecutar, no sobreescriba los archivos con lo que tengamos en el clipboard en ese momento.\n",
    "- Con el código de abajo abrimos el archivo para verificar que se ha guardado la tabla.\n"
   ]
  },
  {
   "cell_type": "code",
   "execution_count": 10,
   "metadata": {},
   "outputs": [
    {
     "data": {
      "text/html": [
       "<div>\n",
       "<style scoped>\n",
       "    .dataframe tbody tr th:only-of-type {\n",
       "        vertical-align: middle;\n",
       "    }\n",
       "\n",
       "    .dataframe tbody tr th {\n",
       "        vertical-align: top;\n",
       "    }\n",
       "\n",
       "    .dataframe thead th {\n",
       "        text-align: right;\n",
       "    }\n",
       "</style>\n",
       "<table border=\"1\" class=\"dataframe\">\n",
       "  <thead>\n",
       "    <tr style=\"text-align: right;\">\n",
       "      <th></th>\n",
       "      <th>Unnamed: 0</th>\n",
       "      <th>2021T4</th>\n",
       "    </tr>\n",
       "  </thead>\n",
       "  <tbody>\n",
       "    <tr>\n",
       "      <th>0</th>\n",
       "      <td>Total</td>\n",
       "      <td>36.344.253</td>\n",
       "    </tr>\n",
       "    <tr>\n",
       "      <th>1</th>\n",
       "      <td>Extranjero</td>\n",
       "      <td>2.809.910</td>\n",
       "    </tr>\n",
       "    <tr>\n",
       "      <th>2</th>\n",
       "      <td>España</td>\n",
       "      <td>33.534.343</td>\n",
       "    </tr>\n",
       "    <tr>\n",
       "      <th>3</th>\n",
       "      <td>Dentro de la Comunidad Autónoma</td>\n",
       "      <td>17.727.523</td>\n",
       "    </tr>\n",
       "    <tr>\n",
       "      <th>4</th>\n",
       "      <td>Dentro de la provincia</td>\n",
       "      <td>10.861.304</td>\n",
       "    </tr>\n",
       "  </tbody>\n",
       "</table>\n",
       "</div>"
      ],
      "text/plain": [
       "                        Unnamed: 0      2021T4\n",
       "0                            Total  36.344.253\n",
       "1                       Extranjero   2.809.910\n",
       "2                           España  33.534.343\n",
       "3  Dentro de la Comunidad Autónoma  17.727.523\n",
       "4           Dentro de la provincia  10.861.304"
      ]
     },
     "execution_count": 10,
     "metadata": {},
     "output_type": "execute_result"
    }
   ],
   "source": [
    "df_csv1 = pd.read_csv('tabla_ine.csv')\n",
    "df_csv1.head()"
   ]
  }
 ],
 "metadata": {
  "interpreter": {
   "hash": "0620710c65b0f5ccc651a2aa8870ae0eb4c70492424a8d7866846658189426a3"
  },
  "kernelspec": {
   "display_name": "Python 3.9.7 ('base')",
   "language": "python",
   "name": "python3"
  },
  "language_info": {
   "codemirror_mode": {
    "name": "ipython",
    "version": 3
   },
   "file_extension": ".py",
   "mimetype": "text/x-python",
   "name": "python",
   "nbconvert_exporter": "python",
   "pygments_lexer": "ipython3",
   "version": "3.9.7"
  },
  "orig_nbformat": 4
 },
 "nbformat": 4,
 "nbformat_minor": 2
}
