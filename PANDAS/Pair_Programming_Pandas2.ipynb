{
 "cells": [
  {
   "cell_type": "code",
   "execution_count": 2,
   "metadata": {},
   "outputs": [],
   "source": [
    "import pandas as pd\n",
    "import numpy as np\n",
    "import pickle\n",
    "import bz2"
   ]
  },
  {
   "cell_type": "code",
   "execution_count": null,
   "metadata": {},
   "outputs": [],
   "source": [
    "#Ejercicio 1\n",
    "df_csv = "
   ]
  },
  {
   "cell_type": "code",
   "execution_count": 3,
   "metadata": {},
   "outputs": [
    {
     "data": {
      "text/html": [
       "<div>\n",
       "<style scoped>\n",
       "    .dataframe tbody tr th:only-of-type {\n",
       "        vertical-align: middle;\n",
       "    }\n",
       "\n",
       "    .dataframe tbody tr th {\n",
       "        vertical-align: top;\n",
       "    }\n",
       "\n",
       "    .dataframe thead th {\n",
       "        text-align: right;\n",
       "    }\n",
       "</style>\n",
       "<table border=\"1\" class=\"dataframe\">\n",
       "  <thead>\n",
       "    <tr style=\"text-align: right;\">\n",
       "      <th></th>\n",
       "      <th>2021T4</th>\n",
       "      <th>2021T3</th>\n",
       "      <th>2021T2</th>\n",
       "      <th>2021T1</th>\n",
       "      <th>2020T4</th>\n",
       "      <th>2020T3</th>\n",
       "      <th>2020T2</th>\n",
       "    </tr>\n",
       "  </thead>\n",
       "  <tbody>\n",
       "    <tr>\n",
       "      <th>Total</th>\n",
       "      <td>36.344.253</td>\n",
       "      <td>57.034.795</td>\n",
       "      <td>34.293.875</td>\n",
       "      <td>15.220.538</td>\n",
       "      <td>17.188.061</td>\n",
       "      <td>46.136.493</td>\n",
       "      <td>9.027.260</td>\n",
       "    </tr>\n",
       "    <tr>\n",
       "      <th>Extranjero</th>\n",
       "      <td>2.809.910</td>\n",
       "      <td>3.195.340</td>\n",
       "      <td>731.799</td>\n",
       "      <td>468.702</td>\n",
       "      <td>402.982</td>\n",
       "      <td>1.507.805</td>\n",
       "      <td>157.532</td>\n",
       "    </tr>\n",
       "    <tr>\n",
       "      <th>España</th>\n",
       "      <td>33.534.343</td>\n",
       "      <td>53.839.454</td>\n",
       "      <td>33.562.076</td>\n",
       "      <td>14.751.836</td>\n",
       "      <td>16.785.079</td>\n",
       "      <td>44.628.688</td>\n",
       "      <td>8.869.729</td>\n",
       "    </tr>\n",
       "    <tr>\n",
       "      <th>Dentro de la Comunidad Autónoma</th>\n",
       "      <td>17.727.523</td>\n",
       "      <td>25.804.560</td>\n",
       "      <td>22.020.786</td>\n",
       "      <td>11.605.884</td>\n",
       "      <td>11.990.306</td>\n",
       "      <td>24.075.182</td>\n",
       "      <td>6.688.860</td>\n",
       "    </tr>\n",
       "    <tr>\n",
       "      <th>Dentro de la provincia</th>\n",
       "      <td>10.861.304</td>\n",
       "      <td>13.104.398</td>\n",
       "      <td>13.379.295</td>\n",
       "      <td>8.675.319</td>\n",
       "      <td>8.352.438</td>\n",
       "      <td>13.513.744</td>\n",
       "      <td>4.905.409</td>\n",
       "    </tr>\n",
       "  </tbody>\n",
       "</table>\n",
       "</div>"
      ],
      "text/plain": [
       "                                     2021T4      2021T3      2021T2  \\\n",
       "Total                            36.344.253  57.034.795  34.293.875   \n",
       "Extranjero                        2.809.910   3.195.340     731.799   \n",
       "España                           33.534.343  53.839.454  33.562.076   \n",
       "Dentro de la Comunidad Autónoma  17.727.523  25.804.560  22.020.786   \n",
       "Dentro de la provincia           10.861.304  13.104.398  13.379.295   \n",
       "\n",
       "                                     2021T1      2020T4      2020T3     2020T2  \n",
       "Total                            15.220.538  17.188.061  46.136.493  9.027.260  \n",
       "Extranjero                          468.702     402.982   1.507.805    157.532  \n",
       "España                           14.751.836  16.785.079  44.628.688  8.869.729  \n",
       "Dentro de la Comunidad Autónoma  11.605.884  11.990.306  24.075.182  6.688.860  \n",
       "Dentro de la provincia            8.675.319   8.352.438  13.513.744  4.905.409  "
      ]
     },
     "execution_count": 3,
     "metadata": {},
     "output_type": "execute_result"
    }
   ],
   "source": [
    "\n",
    "#Ejercicio 2\n",
    "df_clip = pd.read_clipboard(sep = '\\t')\n",
    "df_clip.head()\n",
    "\n",
    "\n"
   ]
  }
 ],
 "metadata": {
  "interpreter": {
   "hash": "0620710c65b0f5ccc651a2aa8870ae0eb4c70492424a8d7866846658189426a3"
  },
  "kernelspec": {
   "display_name": "Python 3.9.7 ('base')",
   "language": "python",
   "name": "python3"
  },
  "language_info": {
   "codemirror_mode": {
    "name": "ipython",
    "version": 3
   },
   "file_extension": ".py",
   "mimetype": "text/x-python",
   "name": "python",
   "nbconvert_exporter": "python",
   "pygments_lexer": "ipython3",
   "version": "3.9.7"
  },
  "orig_nbformat": 4
 },
 "nbformat": 4,
 "nbformat_minor": 2
}
