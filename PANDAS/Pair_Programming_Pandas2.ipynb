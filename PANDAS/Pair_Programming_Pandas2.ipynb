{
 "cells": [
  {
   "cell_type": "code",
   "execution_count": 27,
   "metadata": {},
   "outputs": [],
   "source": [
    "import pandas as pd\n",
    "import numpy as np\n",
    "import pickle\n",
    "import bz2"
   ]
  },
  {
   "cell_type": "code",
   "execution_count": 38,
   "metadata": {},
   "outputs": [],
   "source": [
    "#Ejercicio 1\n",
    "df_csv = pd.read_csv('quejas.csv', encoding='latin1', sep=';')\n",
    "df_csv.head()\n",
    "\n",
    "df_excel = pd.read_excel('quejas2.xlsx')\n",
    "df_excel.head()\n",
    "\n",
    "df_json = pd.read_json('quejas.json')\n",
    "df_json.head()\n",
    "df_json1 = df_json['data'].apply(pd.Series)\n",
    "df_json1.head()\n",
    "\n",
    "#El archivo pickle(algas) no se puede abrir. Si cambiamos el archivo csv a pickle si que se puede abrir.\n",
    "#Nuestra idea era guardar el pickle como csv y abrirlo desde ahi pero tampoco nos funciona, porque coge el archivo como str.\n",
    "\n",
    "# df_csv.to_pickle('csv_a_pickle.csv')\n",
    "# df_pickle2 = pd.read_pickle('csv_a_pickle.pickle')\n",
    "# df_pickle2.head()\n",
    "\n",
    "df_pickle = pd.read_pickle('algas.pickle')\n"
   ]
  },
  {
   "cell_type": "code",
   "execution_count": 7,
   "metadata": {},
   "outputs": [],
   "source": [
    "\n",
    "#Ejercicio 2\n",
    "df_clip = pd.read_clipboard(sep = '\\t')\n",
    "df_clip.head()\n",
    "\n",
    "df_clip.to_csv('tabla_google.csv')\n",
    "df_clip.to_excel('tabla_google.xlsx')\n",
    "df_clip.to_json('tabla_google.json')\n",
    "df_clip.to_pickle('tabla_google.pickle')\n"
   ]
  }
 ],
 "metadata": {
  "interpreter": {
   "hash": "0620710c65b0f5ccc651a2aa8870ae0eb4c70492424a8d7866846658189426a3"
  },
  "kernelspec": {
   "display_name": "Python 3.9.7 ('base')",
   "language": "python",
   "name": "python3"
  },
  "language_info": {
   "codemirror_mode": {
    "name": "ipython",
    "version": 3
   },
   "file_extension": ".py",
   "mimetype": "text/x-python",
   "name": "python",
   "nbconvert_exporter": "python",
   "pygments_lexer": "ipython3",
   "version": "3.9.7"
  },
  "orig_nbformat": 4
 },
 "nbformat": 4,
 "nbformat_minor": 2
}
