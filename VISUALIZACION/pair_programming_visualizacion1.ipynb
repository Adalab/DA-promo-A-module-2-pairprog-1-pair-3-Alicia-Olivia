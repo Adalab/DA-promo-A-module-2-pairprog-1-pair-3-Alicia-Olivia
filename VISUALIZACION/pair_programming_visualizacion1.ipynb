{
 "cells": [
  {
   "cell_type": "code",
   "execution_count": 2,
   "metadata": {},
   "outputs": [],
   "source": [
    "import matplotlib.pyplot as plt\n",
    "import numpy as np \n",
    "import pandas as pd\n",
    "import seaborn as sns"
   ]
  },
  {
   "cell_type": "code",
   "execution_count": 3,
   "metadata": {},
   "outputs": [
    {
     "data": {
      "text/html": [
       "<div>\n",
       "<style scoped>\n",
       "    .dataframe tbody tr th:only-of-type {\n",
       "        vertical-align: middle;\n",
       "    }\n",
       "\n",
       "    .dataframe tbody tr th {\n",
       "        vertical-align: top;\n",
       "    }\n",
       "\n",
       "    .dataframe thead th {\n",
       "        text-align: right;\n",
       "    }\n",
       "</style>\n",
       "<table border=\"1\" class=\"dataframe\">\n",
       "  <thead>\n",
       "    <tr style=\"text-align: right;\">\n",
       "      <th></th>\n",
       "      <th>Year</th>\n",
       "      <th>Type</th>\n",
       "      <th>Country</th>\n",
       "      <th>Area</th>\n",
       "      <th>Location</th>\n",
       "      <th>Activity</th>\n",
       "      <th>Name</th>\n",
       "      <th>Sex</th>\n",
       "      <th>Age</th>\n",
       "      <th>Time</th>\n",
       "      <th>Species</th>\n",
       "    </tr>\n",
       "    <tr>\n",
       "      <th>Case Number</th>\n",
       "      <th></th>\n",
       "      <th></th>\n",
       "      <th></th>\n",
       "      <th></th>\n",
       "      <th></th>\n",
       "      <th></th>\n",
       "      <th></th>\n",
       "      <th></th>\n",
       "      <th></th>\n",
       "      <th></th>\n",
       "      <th></th>\n",
       "    </tr>\n",
       "  </thead>\n",
       "  <tbody>\n",
       "    <tr>\n",
       "      <th>2018.06.25</th>\n",
       "      <td>2018.0</td>\n",
       "      <td>Boating</td>\n",
       "      <td>USA</td>\n",
       "      <td>California</td>\n",
       "      <td>Oceanside, San Diego County</td>\n",
       "      <td>Paddling</td>\n",
       "      <td>Julie Wolfe</td>\n",
       "      <td>F</td>\n",
       "      <td>57</td>\n",
       "      <td>18h00</td>\n",
       "      <td>White shark</td>\n",
       "    </tr>\n",
       "    <tr>\n",
       "      <th>2018.06.18</th>\n",
       "      <td>2018.0</td>\n",
       "      <td>Unprovoked</td>\n",
       "      <td>USA</td>\n",
       "      <td>Georgia</td>\n",
       "      <td>St. Simon Island, Glynn County</td>\n",
       "      <td>Standing</td>\n",
       "      <td>Adyson McNeely</td>\n",
       "      <td>F</td>\n",
       "      <td>11</td>\n",
       "      <td>14h00  -15h00</td>\n",
       "      <td>NaN</td>\n",
       "    </tr>\n",
       "    <tr>\n",
       "      <th>2018.06.09</th>\n",
       "      <td>2018.0</td>\n",
       "      <td>Invalid</td>\n",
       "      <td>USA</td>\n",
       "      <td>Hawaii</td>\n",
       "      <td>Habush, Oahu</td>\n",
       "      <td>Surfing</td>\n",
       "      <td>John Denges</td>\n",
       "      <td>M</td>\n",
       "      <td>48</td>\n",
       "      <td>07h45</td>\n",
       "      <td>NaN</td>\n",
       "    </tr>\n",
       "    <tr>\n",
       "      <th>2018.06.08</th>\n",
       "      <td>2018.0</td>\n",
       "      <td>Unprovoked</td>\n",
       "      <td>AUSTRALIA</td>\n",
       "      <td>New South Wales</td>\n",
       "      <td>Arrawarra Headland</td>\n",
       "      <td>Surfing</td>\n",
       "      <td>male</td>\n",
       "      <td>M</td>\n",
       "      <td>NaN</td>\n",
       "      <td>NaN</td>\n",
       "      <td>2 m shark</td>\n",
       "    </tr>\n",
       "    <tr>\n",
       "      <th>2018.06.04</th>\n",
       "      <td>2018.0</td>\n",
       "      <td>Provoked</td>\n",
       "      <td>MEXICO</td>\n",
       "      <td>Colima</td>\n",
       "      <td>La Ticla</td>\n",
       "      <td>Free diving</td>\n",
       "      <td>Gustavo Ramos</td>\n",
       "      <td>M</td>\n",
       "      <td>NaN</td>\n",
       "      <td>NaN</td>\n",
       "      <td>Tiger shark, 3m</td>\n",
       "    </tr>\n",
       "  </tbody>\n",
       "</table>\n",
       "</div>"
      ],
      "text/plain": [
       "               Year        Type    Country             Area  \\\n",
       "Case Number                                                   \n",
       "2018.06.25   2018.0     Boating        USA       California   \n",
       "2018.06.18   2018.0  Unprovoked        USA          Georgia   \n",
       "2018.06.09   2018.0     Invalid        USA           Hawaii   \n",
       "2018.06.08   2018.0  Unprovoked  AUSTRALIA  New South Wales   \n",
       "2018.06.04   2018.0    Provoked     MEXICO           Colima   \n",
       "\n",
       "                                   Location     Activity             Name  \\\n",
       "Case Number                                                                 \n",
       "2018.06.25      Oceanside, San Diego County     Paddling      Julie Wolfe   \n",
       "2018.06.18   St. Simon Island, Glynn County     Standing  Adyson McNeely    \n",
       "2018.06.09                     Habush, Oahu      Surfing      John Denges   \n",
       "2018.06.08               Arrawarra Headland      Surfing             male   \n",
       "2018.06.04                         La Ticla  Free diving   Gustavo Ramos    \n",
       "\n",
       "            Sex   Age           Time         Species   \n",
       "Case Number                                            \n",
       "2018.06.25     F   57          18h00      White shark  \n",
       "2018.06.18     F   11  14h00  -15h00              NaN  \n",
       "2018.06.09     M   48          07h45              NaN  \n",
       "2018.06.08     M  NaN            NaN        2 m shark  \n",
       "2018.06.04     M  NaN            NaN  Tiger shark, 3m  "
      ]
     },
     "execution_count": 3,
     "metadata": {},
     "output_type": "execute_result"
    }
   ],
   "source": [
    "lectura_attacks = pd.read_csv(\"attacks_modificado.csv\", index_col = 0)\n",
    "lectura_attacks.head() "
   ]
  },
  {
   "cell_type": "markdown",
   "metadata": {},
   "source": [
    "EJERCICIO 1: ¿Cuál es la frecuencia de cada una de las categorías de la columna sex?"
   ]
  },
  {
   "cell_type": "code",
   "execution_count": 4,
   "metadata": {},
   "outputs": [],
   "source": [
    "lectura_attacks_copia = lectura_attacks.copy()\n",
    "lectura_attacks_copia = lectura_attacks_copia.dropna()\n"
   ]
  },
  {
   "cell_type": "code",
   "execution_count": 5,
   "metadata": {},
   "outputs": [
    {
     "data": {
      "image/png": "[encoded data removed]",
      "text/plain": [
       "<Figure size 432x288 with 1 Axes>"
      ]
     },
     "metadata": {
      "needs_background": "light"
     },
     "output_type": "display_data"
    }
   ],
   "source": [
    "sex = lectura_attacks_copia['Sex '].value_counts()\n",
    "sex_labels =  lectura_attacks_copia['Sex '].unique()\n",
    "\n",
    "plt.figure()\n",
    "\n",
    "plt.bar(sex_labels,sex)\n",
    "\n",
    "plt.show()"
   ]
  },
  {
   "cell_type": "markdown",
   "metadata": {},
   "source": [
    "EJERCICIO 2: ¿Cuál es el porcentaje de nulos por columna? Usa un pie chart donde incluyáis el porcentaje de cada variable en el interior del quesito. Para eso tendréis que usar el parámetro autopct, aquí algo de documentación."
   ]
  },
  {
   "cell_type": "code",
   "execution_count": 6,
   "metadata": {},
   "outputs": [
    {
     "name": "stdout",
     "output_type": "stream",
     "text": [
      "Year         0.00\n",
      "Type         0.07\n",
      "Country      0.65\n",
      "Area         6.67\n",
      "Location     7.98\n",
      "Activity     8.36\n",
      "Name         3.27\n",
      "Sex          9.00\n",
      "Age         43.60\n",
      "Time        52.01\n",
      "Species     44.24\n",
      "dtype: float64\n"
     ]
    }
   ],
   "source": [
    "nulos = lectura_attacks.isnull().sum()\n",
    "porcentaje_isnull = (nulos/ len(lectura_attacks)*100)\n",
    "porcentaje_isnull = np.round(porcentaje_isnull, decimals = 2)\n",
    "print(porcentaje_isnull)"
   ]
  },
  {
   "cell_type": "code",
   "execution_count": 7,
   "metadata": {},
   "outputs": [
    {
     "data": {
      "image/png": "[encoded data removed]",
      "text/plain": [
       "<Figure size 432x288 with 1 Axes>"
      ]
     },
     "metadata": {},
     "output_type": "display_data"
    }
   ],
   "source": [
    "nulls_labels =  lectura_attacks_copia.columns\n",
    "\n",
    "plt.figure()\n",
    "\n",
    "plt.pie(porcentaje_isnull, labels=nulls_labels, autopct='%1.2f%%')\n",
    "plt.show()"
   ]
  },
  {
   "cell_type": "markdown",
   "metadata": {},
   "source": [
    "### EJERCICIO 3\n",
    "¿Cuál es número total de valores únicos de cada una de las columnas categóricas del dataframe?"
   ]
  },
  {
   "cell_type": "code",
   "execution_count": 8,
   "metadata": {},
   "outputs": [
    {
     "name": "stdout",
     "output_type": "stream",
     "text": [
      "<class 'pandas.core.frame.DataFrame'>\n",
      "Index: 6114 entries, 2018.06.25 to 1801.12.18.R\n",
      "Data columns (total 11 columns):\n",
      " #   Column    Non-Null Count  Dtype  \n",
      "---  ------    --------------  -----  \n",
      " 0   Year      6114 non-null   float64\n",
      " 1   Type      6110 non-null   object \n",
      " 2   Country   6074 non-null   object \n",
      " 3   Area      5706 non-null   object \n",
      " 4   Location  5626 non-null   object \n",
      " 5   Activity  5603 non-null   object \n",
      " 6   Name      5914 non-null   object \n",
      " 7   Sex       5564 non-null   object \n",
      " 8   Age       3448 non-null   object \n",
      " 9   Time      2934 non-null   object \n",
      " 10  Species   3409 non-null   object \n",
      "dtypes: float64(1), object(10)\n",
      "memory usage: 573.2+ KB\n"
     ]
    }
   ],
   "source": [
    "lectura_attacks.info()"
   ]
  },
  {
   "cell_type": "code",
   "execution_count": 9,
   "metadata": {},
   "outputs": [
    {
     "name": "stdout",
     "output_type": "stream",
     "text": [
      "['Type', 'Country', 'Area', 'Location', 'Activity', 'Name', 'Sex ', 'Age', 'Time', 'Species ']\n",
      "[8, 201, 791, 4020, 1484, 5118, 6, 156, 366, 1529]\n"
     ]
    },
    {
     "data": {
      "image/png": "[encoded data removed]",
      "text/plain": [
       "<Figure size 432x288 with 1 Axes>"
      ]
     },
     "metadata": {},
     "output_type": "display_data"
    }
   ],
   "source": [
    "columnas = lectura_attacks[['Type', 'Country', 'Area', 'Location', 'Activity', 'Name', 'Sex ', 'Age', 'Time', 'Species ']]\n",
    "#he cambiado lectura_attacks.columns porque incluia la columna numerica\n",
    "x= []\n",
    "y=[]\n",
    "for columna in columnas:\n",
    "    x.append(columna)\n",
    "print(x)\n",
    "\n",
    "y=[]\n",
    "for valor in range(len(x)):\n",
    "    todas_labels = lectura_attacks[x[valor]].value_counts()\n",
    "    y.append(len(todas_labels))\n",
    "print(y)\n",
    "\n",
    "\n",
    "plt.figure()\n",
    "\n",
    "plt.pie(y, labels=x)\n",
    "plt.show()\n"
   ]
  },
  {
   "cell_type": "markdown",
   "metadata": {},
   "source": [
    "### EJERCICIO 4\n",
    "Filtrad los datos para quedarnos solo con los datos de USA.\n",
    " - ¿Cuántos ataques de tiburones hubo en USA a lo largo del tiempo? Muestra solo los que hayan ocurrido del 2000 en adelante.\n",
    " - En función del tipo, ¿cuántos ataques de tiburones de cada tipo hubo en USA? Muestra los resultados en un gráfico de línea."
   ]
  },
  {
   "cell_type": "code",
   "execution_count": 10,
   "metadata": {},
   "outputs": [
    {
     "data": {
      "text/html": [
       "<div>\n",
       "<style scoped>\n",
       "    .dataframe tbody tr th:only-of-type {\n",
       "        vertical-align: middle;\n",
       "    }\n",
       "\n",
       "    .dataframe tbody tr th {\n",
       "        vertical-align: top;\n",
       "    }\n",
       "\n",
       "    .dataframe thead th {\n",
       "        text-align: right;\n",
       "    }\n",
       "</style>\n",
       "<table border=\"1\" class=\"dataframe\">\n",
       "  <thead>\n",
       "    <tr style=\"text-align: right;\">\n",
       "      <th></th>\n",
       "      <th>Case Number</th>\n",
       "      <th>Year</th>\n",
       "      <th>Type</th>\n",
       "      <th>Country</th>\n",
       "      <th>Area</th>\n",
       "      <th>Location</th>\n",
       "      <th>Activity</th>\n",
       "      <th>Name</th>\n",
       "      <th>Sex</th>\n",
       "      <th>Age</th>\n",
       "      <th>Time</th>\n",
       "      <th>Species</th>\n",
       "    </tr>\n",
       "  </thead>\n",
       "  <tbody>\n",
       "    <tr>\n",
       "      <th>0</th>\n",
       "      <td>2018.06.25</td>\n",
       "      <td>2018.0</td>\n",
       "      <td>Boating</td>\n",
       "      <td>USA</td>\n",
       "      <td>California</td>\n",
       "      <td>Oceanside, San Diego County</td>\n",
       "      <td>Paddling</td>\n",
       "      <td>Julie Wolfe</td>\n",
       "      <td>F</td>\n",
       "      <td>57</td>\n",
       "      <td>18h00</td>\n",
       "      <td>White shark</td>\n",
       "    </tr>\n",
       "    <tr>\n",
       "      <th>1</th>\n",
       "      <td>2018.06.03.a</td>\n",
       "      <td>2018.0</td>\n",
       "      <td>Unprovoked</td>\n",
       "      <td>BRAZIL</td>\n",
       "      <td>Pernambuco</td>\n",
       "      <td>Piedade Beach, Recife</td>\n",
       "      <td>Swimming</td>\n",
       "      <td>Jose Ernesto da Silva</td>\n",
       "      <td>M</td>\n",
       "      <td>18</td>\n",
       "      <td>Late afternoon</td>\n",
       "      <td>Tiger shark</td>\n",
       "    </tr>\n",
       "    <tr>\n",
       "      <th>2</th>\n",
       "      <td>2018.05.26.b</td>\n",
       "      <td>2018.0</td>\n",
       "      <td>Unprovoked</td>\n",
       "      <td>USA</td>\n",
       "      <td>Florida</td>\n",
       "      <td>Cocoa Beach, Brevard  County</td>\n",
       "      <td>Walking</td>\n",
       "      <td>Cody High</td>\n",
       "      <td>M</td>\n",
       "      <td>15</td>\n",
       "      <td>17h00</td>\n",
       "      <td>Bull shark, 6'</td>\n",
       "    </tr>\n",
       "    <tr>\n",
       "      <th>3</th>\n",
       "      <td>2018.05.24</td>\n",
       "      <td>2018.0</td>\n",
       "      <td>Provoked</td>\n",
       "      <td>AUSTRALIA</td>\n",
       "      <td>Queensland</td>\n",
       "      <td>Cairns Aquarium</td>\n",
       "      <td>Feeding sharks</td>\n",
       "      <td>male</td>\n",
       "      <td>M</td>\n",
       "      <td>32</td>\n",
       "      <td>Morning</td>\n",
       "      <td>Grey reef shark</td>\n",
       "    </tr>\n",
       "    <tr>\n",
       "      <th>4</th>\n",
       "      <td>2018.05.13.a</td>\n",
       "      <td>2018.0</td>\n",
       "      <td>Invalid</td>\n",
       "      <td>ENGLAND</td>\n",
       "      <td>Cornwall</td>\n",
       "      <td>Off Land's End</td>\n",
       "      <td>Fishing</td>\n",
       "      <td>Max Berryman</td>\n",
       "      <td>M</td>\n",
       "      <td>21</td>\n",
       "      <td>08h15</td>\n",
       "      <td>Invalid incident</td>\n",
       "    </tr>\n",
       "    <tr>\n",
       "      <th>...</th>\n",
       "      <td>...</td>\n",
       "      <td>...</td>\n",
       "      <td>...</td>\n",
       "      <td>...</td>\n",
       "      <td>...</td>\n",
       "      <td>...</td>\n",
       "      <td>...</td>\n",
       "      <td>...</td>\n",
       "      <td>...</td>\n",
       "      <td>...</td>\n",
       "      <td>...</td>\n",
       "      <td>...</td>\n",
       "    </tr>\n",
       "    <tr>\n",
       "      <th>1497</th>\n",
       "      <td>1901.07.30</td>\n",
       "      <td>1901.0</td>\n",
       "      <td>Unprovoked</td>\n",
       "      <td>SOUTH AFRICA</td>\n",
       "      <td>Western Cape Province</td>\n",
       "      <td>Windmill Beach</td>\n",
       "      <td>Swimming</td>\n",
       "      <td>John Hendrick Adrian Chandler, a prisoner of war</td>\n",
       "      <td>M</td>\n",
       "      <td>29</td>\n",
       "      <td>14h15</td>\n",
       "      <td>White shark</td>\n",
       "    </tr>\n",
       "    <tr>\n",
       "      <th>1498</th>\n",
       "      <td>1894.11.28</td>\n",
       "      <td>1894.0</td>\n",
       "      <td>Unprovoked</td>\n",
       "      <td>AUSTRALIA</td>\n",
       "      <td>New South Wales</td>\n",
       "      <td>Newcastle</td>\n",
       "      <td>Bathing</td>\n",
       "      <td>Horace Hewison</td>\n",
       "      <td>M</td>\n",
       "      <td>19</td>\n",
       "      <td>Morning</td>\n",
       "      <td>10' to 12' shark</td>\n",
       "    </tr>\n",
       "    <tr>\n",
       "      <th>1499</th>\n",
       "      <td>1892.03.02</td>\n",
       "      <td>1892.0</td>\n",
       "      <td>Provoked</td>\n",
       "      <td>AUSTRALIA</td>\n",
       "      <td>New South Wales</td>\n",
       "      <td>Lake Macquarie</td>\n",
       "      <td>Fishing</td>\n",
       "      <td>Christopher Wang</td>\n",
       "      <td>M</td>\n",
       "      <td>21</td>\n",
       "      <td>Night</td>\n",
       "      <td>12' shark</td>\n",
       "    </tr>\n",
       "    <tr>\n",
       "      <th>1500</th>\n",
       "      <td>1880.11.25</td>\n",
       "      <td>1880.0</td>\n",
       "      <td>Unprovoked</td>\n",
       "      <td>AUSTRALIA</td>\n",
       "      <td>Queensland</td>\n",
       "      <td>Petrie Bight, Brisbane River</td>\n",
       "      <td>Swimming</td>\n",
       "      <td>Alexey Drury</td>\n",
       "      <td>M</td>\n",
       "      <td>12</td>\n",
       "      <td>Afternoon</td>\n",
       "      <td>Bull shark</td>\n",
       "    </tr>\n",
       "    <tr>\n",
       "      <th>1501</th>\n",
       "      <td>1868.05.13</td>\n",
       "      <td>1868.0</td>\n",
       "      <td>Unprovoked</td>\n",
       "      <td>INDIA</td>\n",
       "      <td>Hoogly River</td>\n",
       "      <td>Ghat</td>\n",
       "      <td>Standing</td>\n",
       "      <td>male</td>\n",
       "      <td>M</td>\n",
       "      <td>35</td>\n",
       "      <td>Before 10h30</td>\n",
       "      <td>Identified as C. gangeticus by Dr. J. Fayrer</td>\n",
       "    </tr>\n",
       "  </tbody>\n",
       "</table>\n",
       "<p>1502 rows × 12 columns</p>\n",
       "</div>"
      ],
      "text/plain": [
       "       Case Number    Year        Type       Country                   Area  \\\n",
       "0       2018.06.25  2018.0     Boating           USA             California   \n",
       "1     2018.06.03.a  2018.0  Unprovoked        BRAZIL             Pernambuco   \n",
       "2     2018.05.26.b  2018.0  Unprovoked           USA                Florida   \n",
       "3       2018.05.24  2018.0    Provoked     AUSTRALIA             Queensland   \n",
       "4     2018.05.13.a  2018.0     Invalid       ENGLAND               Cornwall   \n",
       "...            ...     ...         ...           ...                    ...   \n",
       "1497    1901.07.30  1901.0  Unprovoked  SOUTH AFRICA  Western Cape Province   \n",
       "1498    1894.11.28  1894.0  Unprovoked     AUSTRALIA        New South Wales   \n",
       "1499    1892.03.02  1892.0    Provoked     AUSTRALIA        New South Wales   \n",
       "1500    1880.11.25  1880.0  Unprovoked     AUSTRALIA             Queensland   \n",
       "1501    1868.05.13  1868.0  Unprovoked         INDIA           Hoogly River   \n",
       "\n",
       "                          Location        Activity  \\\n",
       "0      Oceanside, San Diego County        Paddling   \n",
       "1            Piedade Beach, Recife        Swimming   \n",
       "2     Cocoa Beach, Brevard  County         Walking   \n",
       "3                  Cairns Aquarium  Feeding sharks   \n",
       "4                   Off Land's End         Fishing   \n",
       "...                            ...             ...   \n",
       "1497                Windmill Beach        Swimming   \n",
       "1498                    Newcastle          Bathing   \n",
       "1499                Lake Macquarie         Fishing   \n",
       "1500  Petrie Bight, Brisbane River        Swimming   \n",
       "1501                          Ghat        Standing   \n",
       "\n",
       "                                                  Name Sex  Age  \\\n",
       "0                                          Julie Wolfe    F  57   \n",
       "1                               Jose Ernesto da Silva     M  18   \n",
       "2                                            Cody High    M  15   \n",
       "3                                                 male    M  32   \n",
       "4                                         Max Berryman    M  21   \n",
       "...                                                ...  ...  ..   \n",
       "1497  John Hendrick Adrian Chandler, a prisoner of war    M  29   \n",
       "1498                                    Horace Hewison    M  19   \n",
       "1499                                  Christopher Wang    M  21   \n",
       "1500                                      Alexey Drury    M  12   \n",
       "1501                                              male    M  35   \n",
       "\n",
       "                Time                                      Species   \n",
       "0              18h00                                   White shark  \n",
       "1     Late afternoon                                   Tiger shark  \n",
       "2              17h00                                Bull shark, 6'  \n",
       "3            Morning                               Grey reef shark  \n",
       "4              08h15                              Invalid incident  \n",
       "...              ...                                           ...  \n",
       "1497           14h15                                   White shark  \n",
       "1498         Morning                              10' to 12' shark  \n",
       "1499           Night                                     12' shark  \n",
       "1500       Afternoon                                    Bull shark  \n",
       "1501    Before 10h30  Identified as C. gangeticus by Dr. J. Fayrer  \n",
       "\n",
       "[1502 rows x 12 columns]"
      ]
     },
     "execution_count": 10,
     "metadata": {},
     "output_type": "execute_result"
    }
   ],
   "source": [
    "lectura_attacks_copia.head()\n",
    "lectura_attacks_copia.reset_index()"
   ]
  },
  {
   "cell_type": "code",
   "execution_count": 11,
   "metadata": {},
   "outputs": [
    {
     "data": {
      "image/png": "[encoded data removed]",
      "text/plain": [
       "<Figure size 432x288 with 1 Axes>"
      ]
     },
     "metadata": {
      "needs_background": "light"
     },
     "output_type": "display_data"
    }
   ],
   "source": [
    "filtro_USA1 = lectura_attacks_copia[((lectura_attacks_copia['Country'] == 'USA') & (lectura_attacks_copia['Year'] >= 2000))]\n",
    "\n",
    "años_x = filtro_USA1['Year'].unique()\n",
    "años_x = años_x[::-1] #Para invertir el orden de los años de menor a mayor\n",
    "y1=[]\n",
    "for filtro in range(len(años_x)):\n",
    "    filtro1 = filtro_USA1[filtro_USA1['Year'] == años_x[filtro]]\n",
    "    y1.append(filtro1.shape[0])\n",
    "\n",
    "plt.bar(años_x, y1)\n",
    "plt.show()\n",
    "\n"
   ]
  },
  {
   "cell_type": "code",
   "execution_count": 12,
   "metadata": {},
   "outputs": [
    {
     "data": {
      "image/png": "[encoded data removed]",
      "text/plain": [
       "<Figure size 432x288 with 1 Axes>"
      ]
     },
     "metadata": {
      "needs_background": "light"
     },
     "output_type": "display_data"
    }
   ],
   "source": [
    "filtro_USA2 = lectura_attacks_copia[lectura_attacks_copia['Country'] == 'USA']\n",
    "tipo = lectura_attacks_copia['Type'].unique()\n",
    "\n",
    "y2=[]\n",
    "for filtro in range(len(tipo)):\n",
    "    filtro2 = filtro_USA2[filtro_USA2['Type'] == tipo[filtro]]\n",
    "    y2.append(filtro2.shape[0])\n",
    "\n",
    "plt.plot(tipo, y2)\n",
    "plt.show()"
   ]
  },
  {
   "cell_type": "markdown",
   "metadata": {},
   "source": [
    "### Ejercicio 5\n",
    "Filtrad los datos para Spain:\n",
    "- ¿Cuántos ataques de tiburones hubo en España a lo largo del tiempo? Muestra solo los que hayan ocurrido del 2000 en adelante.\n",
    "- En función del tipo, ¿cuántos ataques de cada tipo de tiburones hubo en España? Muestra los resultados en un gráfico de línea."
   ]
  },
  {
   "cell_type": "code",
   "execution_count": 13,
   "metadata": {},
   "outputs": [
    {
     "data": {
      "image/png": "[encoded data removed]",
      "text/plain": [
       "<Figure size 432x288 with 1 Axes>"
      ]
     },
     "metadata": {
      "needs_background": "light"
     },
     "output_type": "display_data"
    }
   ],
   "source": [
    "filtro_Spain = lectura_attacks_copia[((lectura_attacks_copia['Country'] == 'SPAIN') & (lectura_attacks_copia['Year'] >= 2000))]\n",
    "\n",
    "años_x1 = filtro_Spain['Year'].unique()\n",
    "años_x1= años_x[::-1] #Para invertir el orden de los años de menor a mayor\n",
    "\n",
    "y3=[]\n",
    "for filtro in range(len(años_x1)):\n",
    "    filtro3 = filtro_Spain[filtro_Spain['Year'] == años_x1[filtro]]\n",
    "    y3.append(filtro3.shape[0])\n",
    "\n",
    "plt.bar(años_x1, y3)\n",
    "plt.show()"
   ]
  },
  {
   "cell_type": "code",
   "execution_count": 14,
   "metadata": {},
   "outputs": [
    {
     "data": {
      "image/png": "[encoded data removed]",
      "text/plain": [
       "<Figure size 432x288 with 1 Axes>"
      ]
     },
     "metadata": {
      "needs_background": "light"
     },
     "output_type": "display_data"
    }
   ],
   "source": [
    "filtro_Spain2 = lectura_attacks_copia[lectura_attacks_copia['Country'] == 'SPAIN']\n",
    "tipo1 = lectura_attacks_copia['Type'].unique()\n",
    "\n",
    "y4=[]\n",
    "for filtro in range(len(tipo1)):\n",
    "    filtro2 = filtro_Spain2[filtro_Spain2['Type'] == tipo1[filtro]]\n",
    "    y4.append(filtro2.shape[0])\n",
    "\n",
    "plt.bar(tipo1, y4)\n",
    "plt.show()"
   ]
  }
 ],
 "metadata": {
  "interpreter": {
   "hash": "ef996a58dd4038b19127a5b342ff558a720418179ddf7c29df6339888c2ae8ac"
  },
  "kernelspec": {
   "display_name": "Python 3.9.7 ('base')",
   "language": "python",
   "name": "python3"
  },
  "language_info": {
   "codemirror_mode": {
    "name": "ipython",
    "version": 3
   },
   "file_extension": ".py",
   "mimetype": "text/x-python",
   "name": "python",
   "nbconvert_exporter": "python",
   "pygments_lexer": "ipython3",
   "version": "3.9.7"
  },
  "orig_nbformat": 4
 },
 "nbformat": 4,
 "nbformat_minor": 2
}
