{
 "cells": [
  {
   "cell_type": "code",
   "execution_count": 1,
   "metadata": {},
   "outputs": [],
   "source": [
    "import matplotlib.pyplot as plt\n",
    "import numpy as np \n",
    "import pandas as pd\n",
    "import seaborn as sns"
   ]
  },
  {
   "cell_type": "code",
   "execution_count": 2,
   "metadata": {},
   "outputs": [
    {
     "data": {
      "text/html": [
       "<div>\n",
       "<style scoped>\n",
       "    .dataframe tbody tr th:only-of-type {\n",
       "        vertical-align: middle;\n",
       "    }\n",
       "\n",
       "    .dataframe tbody tr th {\n",
       "        vertical-align: top;\n",
       "    }\n",
       "\n",
       "    .dataframe thead th {\n",
       "        text-align: right;\n",
       "    }\n",
       "</style>\n",
       "<table border=\"1\" class=\"dataframe\">\n",
       "  <thead>\n",
       "    <tr style=\"text-align: right;\">\n",
       "      <th></th>\n",
       "      <th>Year</th>\n",
       "      <th>Type</th>\n",
       "      <th>Country</th>\n",
       "      <th>Area</th>\n",
       "      <th>Location</th>\n",
       "      <th>Activity</th>\n",
       "      <th>Name</th>\n",
       "      <th>Sex</th>\n",
       "      <th>Age</th>\n",
       "      <th>Time</th>\n",
       "      <th>Species</th>\n",
       "    </tr>\n",
       "    <tr>\n",
       "      <th>Case Number</th>\n",
       "      <th></th>\n",
       "      <th></th>\n",
       "      <th></th>\n",
       "      <th></th>\n",
       "      <th></th>\n",
       "      <th></th>\n",
       "      <th></th>\n",
       "      <th></th>\n",
       "      <th></th>\n",
       "      <th></th>\n",
       "      <th></th>\n",
       "    </tr>\n",
       "  </thead>\n",
       "  <tbody>\n",
       "    <tr>\n",
       "      <th>2018.06.25</th>\n",
       "      <td>2018.0</td>\n",
       "      <td>Boating</td>\n",
       "      <td>USA</td>\n",
       "      <td>California</td>\n",
       "      <td>Oceanside, San Diego County</td>\n",
       "      <td>Paddling</td>\n",
       "      <td>Julie Wolfe</td>\n",
       "      <td>F</td>\n",
       "      <td>57</td>\n",
       "      <td>18h00</td>\n",
       "      <td>White shark</td>\n",
       "    </tr>\n",
       "    <tr>\n",
       "      <th>2018.06.18</th>\n",
       "      <td>2018.0</td>\n",
       "      <td>Unprovoked</td>\n",
       "      <td>USA</td>\n",
       "      <td>Georgia</td>\n",
       "      <td>St. Simon Island, Glynn County</td>\n",
       "      <td>Standing</td>\n",
       "      <td>Adyson McNeely</td>\n",
       "      <td>F</td>\n",
       "      <td>11</td>\n",
       "      <td>14h00  -15h00</td>\n",
       "      <td>NaN</td>\n",
       "    </tr>\n",
       "    <tr>\n",
       "      <th>2018.06.09</th>\n",
       "      <td>2018.0</td>\n",
       "      <td>Invalid</td>\n",
       "      <td>USA</td>\n",
       "      <td>Hawaii</td>\n",
       "      <td>Habush, Oahu</td>\n",
       "      <td>Surfing</td>\n",
       "      <td>John Denges</td>\n",
       "      <td>M</td>\n",
       "      <td>48</td>\n",
       "      <td>07h45</td>\n",
       "      <td>NaN</td>\n",
       "    </tr>\n",
       "    <tr>\n",
       "      <th>2018.06.08</th>\n",
       "      <td>2018.0</td>\n",
       "      <td>Unprovoked</td>\n",
       "      <td>AUSTRALIA</td>\n",
       "      <td>New South Wales</td>\n",
       "      <td>Arrawarra Headland</td>\n",
       "      <td>Surfing</td>\n",
       "      <td>male</td>\n",
       "      <td>M</td>\n",
       "      <td>NaN</td>\n",
       "      <td>NaN</td>\n",
       "      <td>2 m shark</td>\n",
       "    </tr>\n",
       "    <tr>\n",
       "      <th>2018.06.04</th>\n",
       "      <td>2018.0</td>\n",
       "      <td>Provoked</td>\n",
       "      <td>MEXICO</td>\n",
       "      <td>Colima</td>\n",
       "      <td>La Ticla</td>\n",
       "      <td>Free diving</td>\n",
       "      <td>Gustavo Ramos</td>\n",
       "      <td>M</td>\n",
       "      <td>NaN</td>\n",
       "      <td>NaN</td>\n",
       "      <td>Tiger shark, 3m</td>\n",
       "    </tr>\n",
       "  </tbody>\n",
       "</table>\n",
       "</div>"
      ],
      "text/plain": [
       "               Year        Type    Country             Area  \\\n",
       "Case Number                                                   \n",
       "2018.06.25   2018.0     Boating        USA       California   \n",
       "2018.06.18   2018.0  Unprovoked        USA          Georgia   \n",
       "2018.06.09   2018.0     Invalid        USA           Hawaii   \n",
       "2018.06.08   2018.0  Unprovoked  AUSTRALIA  New South Wales   \n",
       "2018.06.04   2018.0    Provoked     MEXICO           Colima   \n",
       "\n",
       "                                   Location     Activity             Name  \\\n",
       "Case Number                                                                 \n",
       "2018.06.25      Oceanside, San Diego County     Paddling      Julie Wolfe   \n",
       "2018.06.18   St. Simon Island, Glynn County     Standing  Adyson McNeely    \n",
       "2018.06.09                     Habush, Oahu      Surfing      John Denges   \n",
       "2018.06.08               Arrawarra Headland      Surfing             male   \n",
       "2018.06.04                         La Ticla  Free diving   Gustavo Ramos    \n",
       "\n",
       "            Sex   Age           Time         Species   \n",
       "Case Number                                            \n",
       "2018.06.25     F   57          18h00      White shark  \n",
       "2018.06.18     F   11  14h00  -15h00              NaN  \n",
       "2018.06.09     M   48          07h45              NaN  \n",
       "2018.06.08     M  NaN            NaN        2 m shark  \n",
       "2018.06.04     M  NaN            NaN  Tiger shark, 3m  "
      ]
     },
     "execution_count": 2,
     "metadata": {},
     "output_type": "execute_result"
    }
   ],
   "source": [
    "lectura_attacks = pd.read_csv(\"attacks_modificado.csv\", index_col = 0)\n",
    "lectura_attacks.head() "
   ]
  },
  {
   "cell_type": "markdown",
   "metadata": {},
   "source": [
    "EJERCICIO 1: ¿Cuál es la frecuencia de cada una de las categorías de la columna sex?"
   ]
  },
  {
   "cell_type": "code",
   "execution_count": 3,
   "metadata": {},
   "outputs": [],
   "source": [
    "lectura_attacks_copia = lectura_attacks.copy()\n",
    "lectura_attacks_copia = lectura_attacks_copia.dropna()\n"
   ]
  },
  {
   "cell_type": "code",
   "execution_count": 4,
   "metadata": {},
   "outputs": [
    {
     "data": {
      "image/png": "[encoded data removed]",
      "text/plain": [
       "<Figure size 432x288 with 1 Axes>"
      ]
     },
     "metadata": {
      "needs_background": "light"
     },
     "output_type": "display_data"
    }
   ],
   "source": [
    "sex = lectura_attacks_copia['Sex '].value_counts()\n",
    "sex_labels =  lectura_attacks_copia['Sex '].unique()\n",
    "\n",
    "plt.figure()\n",
    "\n",
    "plt.bar(sex_labels,sex)\n",
    "\n",
    "plt.show()"
   ]
  },
  {
   "cell_type": "markdown",
   "metadata": {},
   "source": [
    "EJERCICIO 2: ¿Cuál es el porcentaje de nulos por columna? Usa un pie chart donde incluyáis el porcentaje de cada variable en el interior del quesito. Para eso tendréis que usar el parámetro autopct, aquí algo de documentación."
   ]
  },
  {
   "cell_type": "code",
   "execution_count": 5,
   "metadata": {},
   "outputs": [
    {
     "name": "stdout",
     "output_type": "stream",
     "text": [
      "Year         0.00\n",
      "Type         0.07\n",
      "Country      0.65\n",
      "Area         6.67\n",
      "Location     7.98\n",
      "Activity     8.36\n",
      "Name         3.27\n",
      "Sex          9.00\n",
      "Age         43.60\n",
      "Time        52.01\n",
      "Species     44.24\n",
      "dtype: float64\n"
     ]
    }
   ],
   "source": [
    "nulos = lectura_attacks.isnull().sum()\n",
    "porcentaje_isnull = (nulos/ len(lectura_attacks)*100)\n",
    "porcentaje_isnull = np.round(porcentaje_isnull, decimals = 2)\n",
    "print(porcentaje_isnull)"
   ]
  },
  {
   "cell_type": "code",
   "execution_count": 10,
   "metadata": {},
   "outputs": [
    {
     "data": {
      "image/png": "[encoded data removed]",
      "text/plain": [
       "<Figure size 432x288 with 1 Axes>"
      ]
     },
     "metadata": {},
     "output_type": "display_data"
    }
   ],
   "source": [
    "nulls_labels =  lectura_attacks_copia.columns\n",
    "\n",
    "plt.figure()\n",
    "\n",
    "plt.pie(porcentaje_isnull, labels=nulls_labels, autopct='%1.2f%%')\n",
    "plt.show()"
   ]
  },
  {
   "cell_type": "markdown",
   "metadata": {},
   "source": [
    "### EJERCICIO 3\n",
    "¿Cuál es número total de valores únicos de cada una de las columnas categóricas del dataframe?"
   ]
  },
  {
   "cell_type": "code",
   "execution_count": 9,
   "metadata": {},
   "outputs": [
    {
     "name": "stdout",
     "output_type": "stream",
     "text": [
      "<class 'pandas.core.frame.DataFrame'>\n",
      "Index: 6114 entries, 2018.06.25 to 1801.12.18.R\n",
      "Data columns (total 11 columns):\n",
      " #   Column    Non-Null Count  Dtype  \n",
      "---  ------    --------------  -----  \n",
      " 0   Year      6114 non-null   float64\n",
      " 1   Type      6110 non-null   object \n",
      " 2   Country   6074 non-null   object \n",
      " 3   Area      5706 non-null   object \n",
      " 4   Location  5626 non-null   object \n",
      " 5   Activity  5603 non-null   object \n",
      " 6   Name      5914 non-null   object \n",
      " 7   Sex       5564 non-null   object \n",
      " 8   Age       3448 non-null   object \n",
      " 9   Time      2934 non-null   object \n",
      " 10  Species   3409 non-null   object \n",
      "dtypes: float64(1), object(10)\n",
      "memory usage: 573.2+ KB\n"
     ]
    }
   ],
   "source": [
    "lectura_attacks.info()"
   ]
  },
  {
   "cell_type": "code",
   "execution_count": 86,
   "metadata": {},
   "outputs": [
    {
     "name": "stdout",
     "output_type": "stream",
     "text": [
      "['Type', 'Country', 'Area', 'Location', 'Activity', 'Name', 'Sex ', 'Age', 'Time', 'Species ']\n",
      "[8, 201, 791, 4020, 1484, 5118, 6, 156, 366, 1529]\n"
     ]
    },
    {
     "data": {
      "image/png": "[encoded data removed]",
      "text/plain": [
       "<Figure size 432x288 with 1 Axes>"
      ]
     },
     "metadata": {},
     "output_type": "display_data"
    }
   ],
   "source": [
    "columnas = lectura_attacks[['Type', 'Country', 'Area', 'Location', 'Activity', 'Name', 'Sex ', 'Age', 'Time', 'Species ']]\n",
    "#he cambiado lectura_attacks.columns porque incluia la columna numerica\n",
    "x= []\n",
    "y=[]\n",
    "for columna in columnas:\n",
    "    x.append(columna)\n",
    "print(x)\n",
    "\n",
    "y=[]\n",
    "for valor in range(len(x)):\n",
    "    todas_labels = lectura_attacks[x[valor]].value_counts()\n",
    "    y.append(len(todas_labels))\n",
    "print(y)\n",
    "\n",
    "\n",
    "plt.figure()\n",
    "\n",
    "plt.pie(y, labels=x)\n",
    "plt.show()\n"
   ]
  },
  {
   "cell_type": "markdown",
   "metadata": {},
   "source": [
    "### EJERCICIO 4\n",
    "Filtrad los datos para quedarnos solo con los datos de USA.\n",
    " - ¿Cuántos ataques de tiburones hubo en USA a lo largo del tiempo? Muestra solo los que hayan ocurrido del 2000 en adelante.\n",
    " - En función del tipo, ¿cuántos ataques de tiburones de cada tipo hubo en USA? Muestra los resultados en un gráfico de línea."
   ]
  },
  {
   "cell_type": "code",
   "execution_count": null,
   "metadata": {},
   "outputs": [],
   "source": [
    "lectura_attacks_copia.head()\n",
    "lectura_attacks_copia.reset_index()"
   ]
  },
  {
   "cell_type": "code",
   "execution_count": 122,
   "metadata": {},
   "outputs": [
    {
     "data": {
      "image/png": "[encoded data removed]",
      "text/plain": [
       "<Figure size 432x288 with 1 Axes>"
      ]
     },
     "metadata": {
      "needs_background": "light"
     },
     "output_type": "display_data"
    }
   ],
   "source": [
    "filtro_USA1 = lectura_attacks_copia[((lectura_attacks_copia['Country'] == 'USA') & (lectura_attacks_copia['Year'] >= 2000))]\n",
    "\n",
    "años_x = filtro_USA1['Year'].unique()\n",
    "años_x = años_x[::-1] #Para invertir el orden de los años de menor a mayor\n",
    "y1=[]\n",
    "for filtro in range(len(años_x)):\n",
    "    filtro1 = filtro_USA1[filtro_USA1['Year'] == años_x[filtro]]\n",
    "    y1.append(filtro1.shape[0])\n",
    "\n",
    "plt.bar(años_x, y1)\n",
    "plt.show()\n",
    "\n"
   ]
  },
  {
   "cell_type": "code",
   "execution_count": 144,
   "metadata": {},
   "outputs": [
    {
     "data": {
      "image/png": "[encoded data removed]",
      "text/plain": [
       "<Figure size 432x288 with 1 Axes>"
      ]
     },
     "metadata": {
      "needs_background": "light"
     },
     "output_type": "display_data"
    }
   ],
   "source": [
    "filtro_USA2 = lectura_attacks_copia[lectura_attacks_copia['Country'] == 'USA']\n",
    "tipo = lectura_attacks_copia['Type'].unique()\n",
    "\n",
    "y2=[]\n",
    "for filtro in range(len(tipo)):\n",
    "    filtro2 = filtro_USA2[filtro_USA2['Type'] == tipo[filtro]]\n",
    "    y2.append(filtro2.shape[0])\n",
    "\n",
    "plt.bar(tipo, y2)\n",
    "plt.show()"
   ]
  },
  {
   "cell_type": "markdown",
   "metadata": {},
   "source": [
    "### Ejercicio 5\n",
    "Filtrad los datos para Spain:\n",
    "- ¿Cuántos ataques de tiburones hubo en España a lo largo del tiempo? Muestra solo los que hayan ocurrido del 2000 en adelante.\n",
    "- En función del tipo, ¿cuántos ataques de cada tipo de tiburones hubo en España? Muestra los resultados en un gráfico de línea."
   ]
  },
  {
   "cell_type": "code",
   "execution_count": 145,
   "metadata": {},
   "outputs": [
    {
     "data": {
      "image/png": "[encoded data removed]",
      "text/plain": [
       "<Figure size 432x288 with 1 Axes>"
      ]
     },
     "metadata": {
      "needs_background": "light"
     },
     "output_type": "display_data"
    }
   ],
   "source": [
    "filtro_Spain = lectura_attacks_copia[((lectura_attacks_copia['Country'] == 'SPAIN') & (lectura_attacks_copia['Year'] >= 2000))]\n",
    "\n",
    "años_x1 = filtro_Spain['Year'].unique()\n",
    "años_x1= años_x[::-1] #Para invertir el orden de los años de menor a mayor\n",
    "\n",
    "y3=[]\n",
    "for filtro in range(len(años_x1)):\n",
    "    filtro3 = filtro_Spain[filtro_Spain['Year'] == años_x1[filtro]]\n",
    "    y3.append(filtro3.shape[0])\n",
    "\n",
    "plt.bar(años_x1, y3)\n",
    "plt.show()"
   ]
  },
  {
   "cell_type": "code",
   "execution_count": 150,
   "metadata": {},
   "outputs": [
    {
     "data": {
      "image/png": "[encoded data removed]",
      "text/plain": [
       "<Figure size 432x288 with 1 Axes>"
      ]
     },
     "metadata": {
      "needs_background": "light"
     },
     "output_type": "display_data"
    }
   ],
   "source": [
    "filtro_Spain2 = lectura_attacks_copia[lectura_attacks_copia['Country'] == 'SPAIN']\n",
    "tipo1 = lectura_attacks_copia['Type'].unique()\n",
    "\n",
    "y4=[]\n",
    "for filtro in range(len(tipo1)):\n",
    "    filtro2 = filtro_Spain2[filtro_Spain2['Type'] == tipo1[filtro]]\n",
    "    y4.append(filtro2.shape[0])\n",
    "\n",
    "plt.bar(tipo1, y4)\n",
    "plt.show()"
   ]
  }
 ],
 "metadata": {
  "interpreter": {
   "hash": "ef996a58dd4038b19127a5b342ff558a720418179ddf7c29df6339888c2ae8ac"
  },
  "kernelspec": {
   "display_name": "Python 3.9.7 ('base')",
   "language": "python",
   "name": "python3"
  },
  "language_info": {
   "codemirror_mode": {
    "name": "ipython",
    "version": 3
   },
   "file_extension": ".py",
   "mimetype": "text/x-python",
   "name": "python",
   "nbconvert_exporter": "python",
   "pygments_lexer": "ipython3",
   "version": "3.9.7"
  },
  "orig_nbformat": 4
 },
 "nbformat": 4,
 "nbformat_minor": 2
}
